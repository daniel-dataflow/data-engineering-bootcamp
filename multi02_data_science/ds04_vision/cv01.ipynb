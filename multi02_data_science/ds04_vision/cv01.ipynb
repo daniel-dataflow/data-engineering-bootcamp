{
 "cells": [
  {
   "cell_type": "markdown",
   "id": "286f505c",
   "metadata": {},
   "source": [
    "opencv (Opensoure Computer Vision)"
   ]
  },
  {
   "cell_type": "code",
   "execution_count": 3,
   "id": "2aa0254f",
   "metadata": {},
   "outputs": [],
   "source": [
    "import cv2 as cv\n",
    "import sys"
   ]
  },
  {
   "cell_type": "code",
   "execution_count": 4,
   "id": "7d787f60",
   "metadata": {},
   "outputs": [],
   "source": [
    "img = cv.imread(\"../images/headache.png\")"
   ]
  },
  {
   "cell_type": "code",
   "execution_count": 5,
   "id": "96101035",
   "metadata": {},
   "outputs": [],
   "source": [
    "if img is None:\n",
    "    sys.exit(\"file not found\")\n",
    "\n",
    "cv.imshow(\"image\", img)\n",
    "\n",
    "cv.waitKey() # 사용자의 입력을 기다린다.\n",
    "cv.destroyAllWindows()"
   ]
  },
  {
   "cell_type": "code",
   "execution_count": 6,
   "id": "c51bd603",
   "metadata": {},
   "outputs": [],
   "source": [
    "# 웹캠 연결\n",
    "cap = cv.VideoCapture(0)\n",
    "\n",
    "if not cap.isOpened():\n",
    "    sys.exit(\"webcam not found\")\n",
    "\n",
    "while True:\n",
    "    ret, frame = cap.read()\n",
    "\n",
    "    if not ret:\n",
    "        print(\"frame drop\")\n",
    "\n",
    "    cv.imshow(\"webcam\", frame)\n",
    "\n",
    "    key = cv.waitKey(1)\n",
    "    if key == ord(\"q\"):\n",
    "        break\n",
    "\n",
    "cap.release()\n",
    "cv.destroyAllWindows()"
   ]
  },
  {
   "cell_type": "code",
   "execution_count": null,
   "id": "29665810",
   "metadata": {},
   "outputs": [],
   "source": []
  }
 ],
 "metadata": {
  "kernelspec": {
   "display_name": "multi02_tensor",
   "language": "python",
   "name": "python3"
  },
  "language_info": {
   "codemirror_mode": {
    "name": "ipython",
    "version": 3
   },
   "file_extension": ".py",
   "mimetype": "text/x-python",
   "name": "python",
   "nbconvert_exporter": "python",
   "pygments_lexer": "ipython3",
   "version": "3.9.24"
  }
 },
 "nbformat": 4,
 "nbformat_minor": 5
}
