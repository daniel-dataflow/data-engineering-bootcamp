{
 "cells": [
  {
   "cell_type": "markdown",
   "id": "aa436088",
   "metadata": {},
   "source": [
    "GRU (Gate Recurrent Unit)\n",
    "\n",
    "- LSTM 의 cell state 간소화 : upadte, gate, reset gate\n",
    "\n",
    "- LSTM 보다 속도가 빠르다."
   ]
  },
  {
   "cell_type": "code",
   "execution_count": 4,
   "id": "482397a6",
   "metadata": {},
   "outputs": [],
   "source": [
    "from tensorflow.keras.datasets import imdb\n",
    "from tensorflow.keras.utils import pad_sequences\n",
    "from tensorflow.keras.models import Sequential\n",
    "from tensorflow.keras.layers import Embedding, GRU, Dense\n",
    "from tensorflow.keras.callbacks import EarlyStopping"
   ]
  },
  {
   "cell_type": "code",
   "execution_count": 5,
   "id": "48fef192",
   "metadata": {},
   "outputs": [],
   "source": [
    "(x_train, y_train), (x_test, y_test) = imdb.load_data(num_words=10000)"
   ]
  },
  {
   "cell_type": "code",
   "execution_count": 6,
   "id": "08aecf13",
   "metadata": {},
   "outputs": [],
   "source": [
    "x_train_pad = pad_sequences(x_train, maxlen=500)\n",
    "x_test_pad = pad_sequences(x_test, maxlen=500)"
   ]
  },
  {
   "cell_type": "code",
   "execution_count": null,
   "id": "e31df43a",
   "metadata": {},
   "outputs": [],
   "source": [
    "# 내부에서 텐서플로우2가 백프로페이션을 자동지원해준다.\n",
    "# 오류역전파는 하면 성능이 더 좋다.(필수는 아닌 옵션) \n",
    "model = Sequential()"
   ]
  },
  {
   "cell_type": "code",
   "execution_count": 8,
   "id": "e21b7472",
   "metadata": {},
   "outputs": [],
   "source": [
    "model.add(Embedding(10000, 10))\n",
    "\n",
    "model.add(GRU(10, dropout=0.3, return_sequences=True))\n",
    "model.add(GRU(10, dropout=0.3, return_sequences=True))\n",
    "model.add(GRU(10))\n",
    "\n",
    "model.add(Dense(1, activation=\"sigmoid\"))"
   ]
  },
  {
   "cell_type": "code",
   "execution_count": 9,
   "id": "c004b000",
   "metadata": {},
   "outputs": [],
   "source": [
    "model.compile(loss=\"binary_crossentropy\", optimizer=\"adam\", metrics=[\"acc\"])"
   ]
  },
  {
   "cell_type": "code",
   "execution_count": 13,
   "id": "b75c9cd9",
   "metadata": {},
   "outputs": [
    {
     "name": "stdout",
     "output_type": "stream",
     "text": [
      "Epoch 1/100\n",
      "\u001b[1m200/200\u001b[0m \u001b[32m━━━━━━━━━━━━━━━━━━━━\u001b[0m\u001b[37m\u001b[0m \u001b[1m37s\u001b[0m 187ms/step - acc: 0.8942 - loss: 0.2682 - val_acc: 0.8676 - val_loss: 0.3299\n",
      "Epoch 2/100\n",
      "\u001b[1m200/200\u001b[0m \u001b[32m━━━━━━━━━━━━━━━━━━━━\u001b[0m\u001b[37m\u001b[0m \u001b[1m37s\u001b[0m 187ms/step - acc: 0.9192 - loss: 0.2213 - val_acc: 0.8660 - val_loss: 0.3303\n",
      "Epoch 3/100\n",
      "\u001b[1m200/200\u001b[0m \u001b[32m━━━━━━━━━━━━━━━━━━━━\u001b[0m\u001b[37m\u001b[0m \u001b[1m37s\u001b[0m 187ms/step - acc: 0.9345 - loss: 0.1843 - val_acc: 0.8720 - val_loss: 0.3348\n",
      "Epoch 4/100\n",
      "\u001b[1m200/200\u001b[0m \u001b[32m━━━━━━━━━━━━━━━━━━━━\u001b[0m\u001b[37m\u001b[0m \u001b[1m37s\u001b[0m 187ms/step - acc: 0.9441 - loss: 0.1651 - val_acc: 0.8752 - val_loss: 0.3376\n"
     ]
    }
   ],
   "source": [
    "result = model.fit(x_train_pad, y_train, batch_size=100, epochs=100, callbacks=[EarlyStopping(patience=3)], validation_split=0.2)"
   ]
  },
  {
   "cell_type": "code",
   "execution_count": 14,
   "id": "9af8bd83",
   "metadata": {},
   "outputs": [
    {
     "name": "stdout",
     "output_type": "stream",
     "text": [
      "\u001b[1m782/782\u001b[0m \u001b[32m━━━━━━━━━━━━━━━━━━━━\u001b[0m\u001b[37m\u001b[0m \u001b[1m27s\u001b[0m 34ms/step - acc: 0.8622 - loss: 0.3658\n"
     ]
    },
    {
     "data": {
      "text/plain": [
       "[0.3675895631313324, 0.8603600263595581]"
      ]
     },
     "execution_count": 14,
     "metadata": {},
     "output_type": "execute_result"
    }
   ],
   "source": [
    "model.evaluate(x_test_pad, y_test)"
   ]
  },
  {
   "cell_type": "code",
   "execution_count": null,
   "id": "b5bbb2d2",
   "metadata": {},
   "outputs": [],
   "source": []
  }
 ],
 "metadata": {
  "kernelspec": {
   "display_name": "multi02_tensor",
   "language": "python",
   "name": "python3"
  },
  "language_info": {
   "codemirror_mode": {
    "name": "ipython",
    "version": 3
   },
   "file_extension": ".py",
   "mimetype": "text/x-python",
   "name": "python",
   "nbconvert_exporter": "python",
   "pygments_lexer": "ipython3",
   "version": "3.9.23"
  }
 },
 "nbformat": 4,
 "nbformat_minor": 5
}
