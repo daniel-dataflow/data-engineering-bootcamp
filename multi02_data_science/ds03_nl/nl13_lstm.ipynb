{
 "cells": [
  {
   "cell_type": "markdown",
   "id": "71dd371d",
   "metadata": {},
   "source": [
    "LSTM (Long Short Term Memory) :  장 단기 메모리\n",
    "\n",
    "- RNN (SimpleRNN) 의 한계를 극복 : 학습이 길어질수록 초반의 정보가 소실됨(the problem of long term dependencies)\n",
    "\n",
    "- cell state 추가 : 입력게이트(정보기억) / 삭제 게이트 (정보삭제) / 출력 게이트 (이전 시점과 현재 시점의 데이터)\n",
    "\n",
    "과거의 이전의 결과값을(필요유무에 따라 편집해서) 누적해서 가지고 있는 값과 방금 이전의 결과값과 모두 합쳐서"
   ]
  },
  {
   "cell_type": "markdown",
   "id": "a8a95f14",
   "metadata": {},
   "source": [
    "![](https://upload.wikimedia.org/wikipedia/commons/thumb/9/93/LSTM_Cell.svg/1024px-LSTM_Cell.svg.png)"
   ]
  },
  {
   "cell_type": "code",
   "execution_count": 2,
   "id": "ed09d0f5",
   "metadata": {},
   "outputs": [],
   "source": [
    "from tensorflow.keras.datasets import imdb\n",
    "from tensorflow.keras.utils import pad_sequences\n",
    "from tensorflow.keras.models import Sequential\n",
    "from tensorflow.keras.layers import Embedding, LSTM, Dense\n",
    "from tensorflow.keras.callbacks import EarlyStopping"
   ]
  },
  {
   "cell_type": "code",
   "execution_count": 3,
   "id": "f40da447",
   "metadata": {},
   "outputs": [],
   "source": [
    "(x_train, y_train), (x_test, y_test) = imdb.load_data(num_words=10000)"
   ]
  },
  {
   "cell_type": "code",
   "execution_count": 4,
   "id": "1f15490a",
   "metadata": {},
   "outputs": [],
   "source": [
    "x_train_pad = pad_sequences(x_train, maxlen=500)\n",
    "x_test_pad = pad_sequences(x_test, maxlen=500)"
   ]
  },
  {
   "cell_type": "code",
   "execution_count": 5,
   "id": "0e03bc80",
   "metadata": {},
   "outputs": [],
   "source": [
    "model = Sequential()"
   ]
  },
  {
   "cell_type": "code",
   "execution_count": 6,
   "id": "032198cd",
   "metadata": {},
   "outputs": [],
   "source": [
    "model.add(Embedding(10000, 10))\n",
    "\n",
    "model.add(LSTM(10, dropout=0.3, return_sequences=True))\n",
    "model.add(LSTM(10, dropout=0.3, return_sequences=True))\n",
    "model.add(LSTM(10))\n",
    "\n",
    "model.add(Dense(1, activation=\"sigmoid\"))"
   ]
  },
  {
   "cell_type": "code",
   "execution_count": 7,
   "id": "03745bcc",
   "metadata": {},
   "outputs": [],
   "source": [
    "model.compile(loss=\"binary_crossentropy\", optimizer=\"adam\", metrics=[\"acc\"])"
   ]
  },
  {
   "cell_type": "code",
   "execution_count": 8,
   "id": "8a17a87b",
   "metadata": {},
   "outputs": [
    {
     "name": "stdout",
     "output_type": "stream",
     "text": [
      "Epoch 1/100\n",
      "\u001b[1m200/200\u001b[0m \u001b[32m━━━━━━━━━━━━━━━━━━━━\u001b[0m\u001b[37m\u001b[0m \u001b[1m35s\u001b[0m 168ms/step - acc: 0.5848 - loss: 0.6427 - val_acc: 0.8550 - val_loss: 0.3582\n",
      "Epoch 2/100\n",
      "\u001b[1m200/200\u001b[0m \u001b[32m━━━━━━━━━━━━━━━━━━━━\u001b[0m\u001b[37m\u001b[0m \u001b[1m33s\u001b[0m 167ms/step - acc: 0.8702 - loss: 0.3304 - val_acc: 0.8748 - val_loss: 0.3196\n",
      "Epoch 3/100\n",
      "\u001b[1m200/200\u001b[0m \u001b[32m━━━━━━━━━━━━━━━━━━━━\u001b[0m\u001b[37m\u001b[0m \u001b[1m34s\u001b[0m 168ms/step - acc: 0.9094 - loss: 0.2473 - val_acc: 0.8798 - val_loss: 0.3218\n",
      "Epoch 4/100\n",
      "\u001b[1m200/200\u001b[0m \u001b[32m━━━━━━━━━━━━━━━━━━━━\u001b[0m\u001b[37m\u001b[0m \u001b[1m34s\u001b[0m 169ms/step - acc: 0.9290 - loss: 0.1978 - val_acc: 0.8722 - val_loss: 0.3481\n",
      "Epoch 5/100\n",
      "\u001b[1m200/200\u001b[0m \u001b[32m━━━━━━━━━━━━━━━━━━━━\u001b[0m\u001b[37m\u001b[0m \u001b[1m34s\u001b[0m 169ms/step - acc: 0.9439 - loss: 0.1702 - val_acc: 0.8692 - val_loss: 0.3334\n"
     ]
    }
   ],
   "source": [
    "result = model.fit(x_train_pad, y_train, batch_size=100, epochs=100, callbacks=[EarlyStopping(patience=3)], validation_split=0.2)"
   ]
  },
  {
   "cell_type": "code",
   "execution_count": 9,
   "id": "f7c57cfc",
   "metadata": {},
   "outputs": [
    {
     "name": "stdout",
     "output_type": "stream",
     "text": [
      "\u001b[1m782/782\u001b[0m \u001b[32m━━━━━━━━━━━━━━━━━━━━\u001b[0m\u001b[37m\u001b[0m \u001b[1m22s\u001b[0m 28ms/step - acc: 0.8580 - loss: 0.3602\n"
     ]
    },
    {
     "data": {
      "text/plain": [
       "[0.36112701892852783, 0.8580800294876099]"
      ]
     },
     "execution_count": 9,
     "metadata": {},
     "output_type": "execute_result"
    }
   ],
   "source": [
    "# 모델의 평가 (score와 같은의미 텐서플로우엔 score가 없다.)\n",
    "model.evaluate(x_test_pad, y_test)"
   ]
  },
  {
   "cell_type": "code",
   "execution_count": null,
   "id": "acbc4542",
   "metadata": {},
   "outputs": [],
   "source": []
  }
 ],
 "metadata": {
  "kernelspec": {
   "display_name": "multi02_tensor",
   "language": "python",
   "name": "python3"
  },
  "language_info": {
   "codemirror_mode": {
    "name": "ipython",
    "version": 3
   },
   "file_extension": ".py",
   "mimetype": "text/x-python",
   "name": "python",
   "nbconvert_exporter": "python",
   "pygments_lexer": "ipython3",
   "version": "3.9.23"
  }
 },
 "nbformat": 4,
 "nbformat_minor": 5
}
