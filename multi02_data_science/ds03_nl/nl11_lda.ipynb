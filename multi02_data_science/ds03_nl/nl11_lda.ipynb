{
 "cells": [
  {
   "cell_type": "markdown",
   "id": "35a0064d",
   "metadata": {},
   "source": [
    "topic modeling :  문서를 특정 토픽으로 할당 (차원 축소)\n",
    "\n",
    "- NMF (None-negative Matrix Factorization) :  비음수 행렬 분해\n",
    "\n",
    "- SVD (Singluar Value Decompoisition) :  특이값 분해\n",
    "\n",
    "- LDA (Latent Dirichlet Allocation) : 잠재 디리크레 할당 -> 베이즈 기반 확률적 생성 모델\n",
    "\n",
    "    단어들이 어떤 주제와 관련있을지 확률적으로 분석하여 분류"
   ]
  },
  {
   "cell_type": "code",
   "execution_count": 2,
   "id": "c70aa830",
   "metadata": {},
   "outputs": [],
   "source": [
    "import pandas as pd"
   ]
  },
  {
   "cell_type": "code",
   "execution_count": 3,
   "id": "07aee614",
   "metadata": {},
   "outputs": [
    {
     "data": {
      "text/html": [
       "<div>\n",
       "<style scoped>\n",
       "    .dataframe tbody tr th:only-of-type {\n",
       "        vertical-align: middle;\n",
       "    }\n",
       "\n",
       "    .dataframe tbody tr th {\n",
       "        vertical-align: top;\n",
       "    }\n",
       "\n",
       "    .dataframe thead th {\n",
       "        text-align: right;\n",
       "    }\n",
       "</style>\n",
       "<table border=\"1\" class=\"dataframe\">\n",
       "  <thead>\n",
       "    <tr style=\"text-align: right;\">\n",
       "      <th></th>\n",
       "      <th>review</th>\n",
       "      <th>sentiment</th>\n",
       "    </tr>\n",
       "  </thead>\n",
       "  <tbody>\n",
       "    <tr>\n",
       "      <th>0</th>\n",
       "      <td>In 1974, the teenager Martha Moxley (Maggie Gr...</td>\n",
       "      <td>1</td>\n",
       "    </tr>\n",
       "    <tr>\n",
       "      <th>1</th>\n",
       "      <td>OK... so... I really like Kris Kristofferson a...</td>\n",
       "      <td>0</td>\n",
       "    </tr>\n",
       "    <tr>\n",
       "      <th>2</th>\n",
       "      <td>***SPOILER*** Do not read this, if you think a...</td>\n",
       "      <td>0</td>\n",
       "    </tr>\n",
       "    <tr>\n",
       "      <th>3</th>\n",
       "      <td>hi for all the people who have seen this wonde...</td>\n",
       "      <td>1</td>\n",
       "    </tr>\n",
       "    <tr>\n",
       "      <th>4</th>\n",
       "      <td>I recently bought the DVD, forgetting just how...</td>\n",
       "      <td>0</td>\n",
       "    </tr>\n",
       "    <tr>\n",
       "      <th>...</th>\n",
       "      <td>...</td>\n",
       "      <td>...</td>\n",
       "    </tr>\n",
       "    <tr>\n",
       "      <th>49995</th>\n",
       "      <td>OK, lets start with the best. the building. al...</td>\n",
       "      <td>0</td>\n",
       "    </tr>\n",
       "    <tr>\n",
       "      <th>49996</th>\n",
       "      <td>The British 'heritage film' industry is out of...</td>\n",
       "      <td>0</td>\n",
       "    </tr>\n",
       "    <tr>\n",
       "      <th>49997</th>\n",
       "      <td>I don't even know where to begin on this one. ...</td>\n",
       "      <td>0</td>\n",
       "    </tr>\n",
       "    <tr>\n",
       "      <th>49998</th>\n",
       "      <td>Richard Tyler is a little boy who is scared of...</td>\n",
       "      <td>0</td>\n",
       "    </tr>\n",
       "    <tr>\n",
       "      <th>49999</th>\n",
       "      <td>I waited long to watch this movie. Also becaus...</td>\n",
       "      <td>1</td>\n",
       "    </tr>\n",
       "  </tbody>\n",
       "</table>\n",
       "<p>50000 rows × 2 columns</p>\n",
       "</div>"
      ],
      "text/plain": [
       "                                                  review  sentiment\n",
       "0      In 1974, the teenager Martha Moxley (Maggie Gr...          1\n",
       "1      OK... so... I really like Kris Kristofferson a...          0\n",
       "2      ***SPOILER*** Do not read this, if you think a...          0\n",
       "3      hi for all the people who have seen this wonde...          1\n",
       "4      I recently bought the DVD, forgetting just how...          0\n",
       "...                                                  ...        ...\n",
       "49995  OK, lets start with the best. the building. al...          0\n",
       "49996  The British 'heritage film' industry is out of...          0\n",
       "49997  I don't even know where to begin on this one. ...          0\n",
       "49998  Richard Tyler is a little boy who is scared of...          0\n",
       "49999  I waited long to watch this movie. Also becaus...          1\n",
       "\n",
       "[50000 rows x 2 columns]"
      ]
     },
     "execution_count": 3,
     "metadata": {},
     "output_type": "execute_result"
    }
   ],
   "source": [
    "df = pd.read_csv(\"../datasets/imdb_sentiment.csv\")\n",
    "df\n",
    "# 0 : 부장 / 1 : 긍정 "
   ]
  },
  {
   "cell_type": "code",
   "execution_count": 4,
   "id": "a45d5dbe",
   "metadata": {},
   "outputs": [],
   "source": [
    "from sklearn.feature_extraction.text import CountVectorizer"
   ]
  },
  {
   "cell_type": "code",
   "execution_count": null,
   "id": "80d4f532",
   "metadata": {},
   "outputs": [],
   "source": [
    "# max_features : 빈도수 높은 것부터 가져오는 갯수, \n",
    "# max_df: 상위 몇프로 이상 나오는 것을 제외하겠다.\n",
    "cv = CountVectorizer(max_features=1000, max_df=.15)\n",
    "x = cv.fit_transform(df[\"review\"])"
   ]
  },
  {
   "cell_type": "code",
   "execution_count": 6,
   "id": "9d466b5c",
   "metadata": {},
   "outputs": [],
   "source": [
    "from sklearn.decomposition import LatentDirichletAllocation"
   ]
  },
  {
   "cell_type": "code",
   "execution_count": 8,
   "id": "51bc55f0",
   "metadata": {},
   "outputs": [],
   "source": [
    "# 10개의 토픽으로 분류\n",
    "lda = LatentDirichletAllocation(n_components=10, learning_method=\"batch\", max_iter=25, random_state=0, n_jobs=-1)\n",
    "topics = lda.fit_transform(x)"
   ]
  },
  {
   "cell_type": "code",
   "execution_count": null,
   "id": "974beeb7",
   "metadata": {},
   "outputs": [
    {
     "data": {
      "text/plain": [
       "array([[0.3878013 , 0.38698177, 0.00204136, ..., 0.00204111, 0.00204129,\n",
       "        0.00204113],\n",
       "       [0.07488885, 0.0019236 , 0.00192368, ..., 0.18561466, 0.00192364,\n",
       "        0.00192357],\n",
       "       [0.13752401, 0.17370466, 0.19819481, ..., 0.00137024, 0.00137027,\n",
       "        0.08804367],\n",
       "       ...,\n",
       "       [0.29507083, 0.103182  , 0.00344904, ..., 0.00344962, 0.00344932,\n",
       "        0.00344922],\n",
       "       [0.12626781, 0.21144047, 0.00526428, ..., 0.62543944, 0.00526661,\n",
       "        0.00526371],\n",
       "       [0.00909195, 0.00909281, 0.00909392, ..., 0.00909345, 0.79503063,\n",
       "        0.13222446]])"
      ]
     },
     "execution_count": 9,
     "metadata": {},
     "output_type": "execute_result"
    }
   ],
   "source": [
    "# 각각의 토픽의 확률(높은 수치)\n",
    "topics"
   ]
  },
  {
   "cell_type": "code",
   "execution_count": 10,
   "id": "30167d2c",
   "metadata": {},
   "outputs": [
    {
     "data": {
      "text/plain": [
       "(50000, 10)"
      ]
     },
     "execution_count": 10,
     "metadata": {},
     "output_type": "execute_result"
    }
   ],
   "source": [
    "topics.shape"
   ]
  },
  {
   "cell_type": "code",
   "execution_count": null,
   "id": "881f2f81",
   "metadata": {},
   "outputs": [
    {
     "data": {
      "text/plain": [
       "array([[5.98838153e+01, 1.16855610e+01, 1.02667502e+01, ...,\n",
       "        6.12098071e+00, 1.00022418e-01, 1.00006700e-01],\n",
       "       [2.18891627e+02, 1.95424852e+02, 1.81741443e+02, ...,\n",
       "        6.92030901e+02, 2.61037853e-01, 1.00006246e-01],\n",
       "       [1.50507956e+02, 1.18038474e-01, 4.77710417e+00, ...,\n",
       "        5.97564864e+00, 1.56310673e+02, 1.00005190e-01],\n",
       "       ...,\n",
       "       [7.03612278e+02, 2.09670105e+02, 3.35255864e+02, ...,\n",
       "        2.31117679e+00, 7.08006373e+02, 1.00011532e-01],\n",
       "       [2.05039825e+03, 3.60290033e+00, 7.70470048e+01, ...,\n",
       "        5.37425804e+01, 1.21895222e+02, 1.00003452e-01],\n",
       "       [8.59103849e+02, 2.70817323e+00, 7.65850911e+00, ...,\n",
       "        1.01514984e+02, 1.75465526e+02, 1.00004619e-01]])"
      ]
     },
     "execution_count": 11,
     "metadata": {},
     "output_type": "execute_result"
    }
   ],
   "source": [
    "# 해당 토픽에서의 얼마나 중요한지 중요도를 나타내준다.\n",
    "lda.components_"
   ]
  },
  {
   "cell_type": "code",
   "execution_count": 12,
   "id": "c95b730e",
   "metadata": {},
   "outputs": [
    {
     "data": {
      "text/plain": [
       "(10, 1000)"
      ]
     },
     "execution_count": 12,
     "metadata": {},
     "output_type": "execute_result"
    }
   ],
   "source": [
    "lda.components_.shape"
   ]
  },
  {
   "cell_type": "code",
   "execution_count": 13,
   "id": "ef5063cd",
   "metadata": {},
   "outputs": [],
   "source": [
    "import numpy as np"
   ]
  },
  {
   "cell_type": "code",
   "execution_count": 14,
   "id": "c9437d60",
   "metadata": {},
   "outputs": [
    {
     "data": {
      "text/plain": [
       "array(['10', '15', '20', '30', '80', '90', 'able', 'above', 'absolutely',\n",
       "       'across', 'act', 'acted', 'action', 'actor', 'actors', 'actress',\n",
       "       'actual', 'actually', 'add', 'admit', 'adventure', 'again',\n",
       "       'against', 'age', 'ago', 'agree', 'air', 'alien', 'alive',\n",
       "       'almost', 'alone', 'along', 'already', 'although', 'always', 'am',\n",
       "       'amazing', 'america', 'american', 'among', 'amount', 'amusing',\n",
       "       'animation', 'annoying', 'another', 'anti', 'anyone', 'anything',\n",
       "       'anyway', 'apart', 'apparently', 'appear', 'appears', 'appreciate',\n",
       "       'aren', 'around', 'art', 'ask', 'atmosphere', 'attempt',\n",
       "       'attempts', 'attention', 'audience', 'average', 'avoid', 'away',\n",
       "       'awful', 'baby', 'background', 'badly', 'band', 'based', 'basic',\n",
       "       'basically', 'battle', 'beautiful', 'beauty', 'became', 'become',\n",
       "       'becomes', 'before', 'begin', 'beginning', 'begins', 'behind',\n",
       "       'believable', 'believe', 'ben', 'between', 'beyond', 'big',\n",
       "       'biggest', 'bill', 'bit', 'bizarre', 'black', 'blood', 'body',\n",
       "       'book', 'bored', 'boring', 'both', 'box', 'boy', 'boys', 'brain',\n",
       "       'break', 'brilliant', 'bring', 'brings', 'british', 'brother',\n",
       "       'brothers', 'brought', 'budget', 'bunch', 'business', 'buy',\n",
       "       'call', 'called', 'came', 'camera', 'cannot', 'car', 'care',\n",
       "       'career', 'cartoon', 'case', 'cast', 'casting', 'cat', 'caught',\n",
       "       'cause', 'century', 'certain', 'certainly', 'chance', 'change',\n",
       "       'cheap', 'check', 'cheesy', 'child', 'children', 'choice',\n",
       "       'christmas', 'cinema', 'cinematography', 'city', 'class',\n",
       "       'classic', 'clear', 'clearly', 'clever', 'close', 'co', 'cold',\n",
       "       'college', 'come', 'comedy', 'comes', 'comic', 'coming', 'comment',\n",
       "       'comments', 'common', 'company', 'compared', 'complete',\n",
       "       'completely', 'concept', 'considering', 'control', 'convincing',\n",
       "       'cool', 'cop', 'copy', 'couldn', 'country', 'couple', 'course',\n",
       "       'cover', 'crap', 'crazy', 'create', 'created', 'credit', 'credits',\n",
       "       'creepy', 'crew', 'crime', 'culture', 'cut', 'cute', 'dance',\n",
       "       'dancing', 'dark', 'daughter', 'david', 'day', 'days', 'de',\n",
       "       'dead', 'deal', 'death', 'decent', 'decide', 'decided', 'decides',\n",
       "       'deep', 'definitely', 'depth', 'deserves', 'despite',\n",
       "       'development', 'dialog', 'dialogue', 'didn', 'die', 'died',\n",
       "       'different', 'difficult', 'directed', 'directing', 'direction',\n",
       "       'director', 'directors', 'disappointed', 'disney', 'doctor',\n",
       "       'documentary', 'doesn', 'dog', 'doing', 'done', 'doubt', 'down',\n",
       "       'dr', 'drama', 'dramatic', 'dream', 'drug', 'due', 'dull', 'dumb',\n",
       "       'during', 'dvd', 'each', 'earlier', 'early', 'earth', 'easily',\n",
       "       'easy', 'editing', 'effect', 'effective', 'effects', 'effort',\n",
       "       'either', 'elements', 'else', 'emotional', 'ended', 'ending',\n",
       "       'ends', 'english', 'enjoy', 'enjoyable', 'enjoyed', 'enough',\n",
       "       'entertaining', 'entertainment', 'entire', 'entirely', 'episode',\n",
       "       'episodes', 'era', 'escape', 'especially', 'etc', 'events',\n",
       "       'eventually', 'every', 'everyone', 'everything', 'evil', 'exactly',\n",
       "       'example', 'excellent', 'except', 'exciting', 'expect', 'expected',\n",
       "       'expecting', 'experience', 'extremely', 'eye', 'eyes', 'face',\n",
       "       'fact', 'fails', 'fairly', 'fake', 'fall', 'falls', 'familiar',\n",
       "       'family', 'famous', 'fan', 'fans', 'fantastic', 'fantasy', 'far',\n",
       "       'fast', 'father', 'favorite', 'fear', 'feature', 'features',\n",
       "       'feel', 'feeling', 'feels', 'felt', 'female', 'few', 'fi',\n",
       "       'fiction', 'fight', 'fighting', 'figure', 'filled', 'filmed',\n",
       "       'filmmakers', 'final', 'finally', 'find', 'finds', 'fine', 'fire',\n",
       "       'fit', 'five', 'flat', 'flick', 'focus', 'follow', 'following',\n",
       "       'follows', 'footage', 'force', 'forced', 'forget', 'form',\n",
       "       'former', 'forward', 'found', 'four', 'free', 'french', 'friend',\n",
       "       'friends', 'front', 'full', 'fun', 'funny', 'further', 'future',\n",
       "       'game', 'gave', 'gay', 'general', 'genre', 'george', 'german',\n",
       "       'gets', 'getting', 'girl', 'girlfriend', 'girls', 'give', 'given',\n",
       "       'gives', 'giving', 'god', 'goes', 'going', 'gone', 'gore', 'got',\n",
       "       'greatest', 'group', 'guess', 'gun', 'guy', 'guys', 'hair', 'half',\n",
       "       'hand', 'hands', 'happen', 'happened', 'happens', 'happy', 'hard',\n",
       "       'hardly', 'hate', 'haven', 'having', 'head', 'hear', 'heard',\n",
       "       'heart', 'hell', 'help', 'hero', 'herself', 'high', 'highly',\n",
       "       'hilarious', 'himself', 'history', 'hit', 'hold', 'hollywood',\n",
       "       'home', 'honest', 'hope', 'horrible', 'horror', 'hot', 'hour',\n",
       "       'hours', 'house', 'however', 'huge', 'human', 'humor', 'husband',\n",
       "       'idea', 'ideas', 'images', 'imagine', 'imdb', 'important',\n",
       "       'including', 'incredible', 'incredibly', 'indeed', 'inside',\n",
       "       'instead', 'intelligent', 'interest', 'interested', 'interesting',\n",
       "       'involved', 'island', 'isn', 'italian', 'itself', 'jack', 'james',\n",
       "       'jane', 'japanese', 'job', 'joe', 'john', 'joke', 'jokes', 'keep',\n",
       "       'keeps', 'kept', 'kid', 'kids', 'kill', 'killed', 'killer',\n",
       "       'killing', 'kills', 'kind', 'king', 'knew', 'known', 'knows', 'la',\n",
       "       'lack', 'lady', 'lame', 'language', 'large', 'last', 'late',\n",
       "       'later', 'laugh', 'laughing', 'laughs', 'law', 'lead', 'leading',\n",
       "       'leads', 'learn', 'least', 'leave', 'leaves', 'lee', 'left',\n",
       "       'less', 'let', 'level', 'light', 'liked', 'line', 'lines', 'list',\n",
       "       'live', 'lives', 'living', 'll', 'local', 'long', 'longer', 'look',\n",
       "       'looked', 'looking', 'looks', 'lost', 'lot', 'lots', 'loved',\n",
       "       'low', 'mad', 'main', 'major', 'makes', 'making', 'male',\n",
       "       'manages', 'mark', 'married', 'master', 'masterpiece', 'match',\n",
       "       'material', 'matter', 'may', 'maybe', 'mean', 'meaning', 'means',\n",
       "       'meant', 'meet', 'meets', 'members', 'memorable', 'men', 'mention',\n",
       "       'mentioned', 'mess', 'message', 'michael', 'middle', 'might',\n",
       "       'mind', 'minute', 'minutes', 'miss', 'missed', 'missing', 'modern',\n",
       "       'moment', 'moments', 'money', 'monster', 'mostly', 'mother',\n",
       "       'move', 'moves', 'moving', 'mr', 'murder', 'music', 'musical',\n",
       "       'must', 'myself', 'mystery', 'name', 'named', 'nature', 'near',\n",
       "       'nearly', 'need', 'needed', 'needs', 'neither', 'new', 'next',\n",
       "       'nice', 'night', 'non', 'none', 'nor', 'note', 'nothing', 'novel',\n",
       "       'now', 'nudity', 'number', 'obvious', 'obviously', 'odd', 'office',\n",
       "       'often', 'oh', 'ok', 'okay', 'old', 'older', 'once', 'ones',\n",
       "       'open', 'opening', 'opinion', 'order', 'original', 'oscar',\n",
       "       'others', 'otherwise', 'our', 'outside', 'overall', 'own', 'pace',\n",
       "       'parents', 'part', 'particular', 'particularly', 'parts', 'party',\n",
       "       'past', 'pathetic', 'paul', 'pay', 'perfect', 'perfectly',\n",
       "       'performance', 'performances', 'perhaps', 'period', 'person',\n",
       "       'personal', 'peter', 'picture', 'piece', 'place', 'plain', 'play',\n",
       "       'played', 'playing', 'plays', 'please', 'plenty', 'plus', 'point',\n",
       "       'pointless', 'points', 'police', 'political', 'poor', 'poorly',\n",
       "       'popular', 'portrayal', 'portrayed', 'positive', 'possible',\n",
       "       'possibly', 'post', 'potential', 'power', 'powerful',\n",
       "       'predictable', 'premise', 'present', 'pretty', 'previous',\n",
       "       'probably', 'problem', 'problems', 'produced', 'producers',\n",
       "       'production', 'project', 'public', 'pure', 'put', 'quality',\n",
       "       'question', 'quickly', 'quite', 'rate', 'rather', 'rating', 're',\n",
       "       'read', 'reading', 'real', 'realistic', 'reality', 'realize',\n",
       "       'reason', 'reasons', 'recently', 'recommend', 'recommended', 'red',\n",
       "       'relationship', 'release', 'released', 'remake', 'remember',\n",
       "       'rent', 'rest', 'result', 'return', 'revenge', 'review', 'reviews',\n",
       "       'rich', 'richard', 'ridiculous', 'right', 'robert', 'rock', 'role',\n",
       "       'roles', 'romance', 'romantic', 'room', 'run', 'running', 'sad',\n",
       "       'sadly', 'said', 'same', 'save', 'saw', 'saying', 'says', 'scary',\n",
       "       'school', 'sci', 'science', 'score', 'scott', 'screen',\n",
       "       'screenplay', 'script', 'season', 'second', 'secret', 'seeing',\n",
       "       'seem', 'seemed', 'seems', 'sees', 'self', 'sense', 'sequel',\n",
       "       'sequence', 'sequences', 'series', 'serious', 'seriously', 'set',\n",
       "       'sets', 'setting', 'several', 'sex', 'sexual', 'shame', 'short',\n",
       "       'shot', 'shots', 'show', 'showing', 'shown', 'shows', 'sick',\n",
       "       'side', 'silly', 'similar', 'simple', 'simply', 'since', 'single',\n",
       "       'sister', 'sit', 'situation', 'situations', 'slightly', 'slow',\n",
       "       'small', 'social', 'society', 'somehow', 'someone', 'sometimes',\n",
       "       'somewhat', 'son', 'song', 'songs', 'soon', 'sorry', 'sort',\n",
       "       'sound', 'sounds', 'soundtrack', 'space', 'speak', 'special',\n",
       "       'spend', 'spent', 'spirit', 'spoilers', 'stage', 'stand', 'star',\n",
       "       'stars', 'start', 'started', 'starts', 'state', 'stay', 'stop',\n",
       "       'store', 'stories', 'storyline', 'straight', 'strange', 'street',\n",
       "       'strong', 'studio', 'stuff', 'stupid', 'style', 'subject',\n",
       "       'success', 'successful', 'suddenly', 'superb', 'supporting',\n",
       "       'supposed', 'sure', 'surprise', 'surprised', 'suspense', 'sweet',\n",
       "       'take', 'taken', 'takes', 'taking', 'tale', 'talent', 'talented',\n",
       "       'talk', 'talking', 'team', 'television', 'tell', 'telling',\n",
       "       'tells', 'ten', 'tension', 'terrible', 'theater', 'theme',\n",
       "       'themselves', 'things', 'thinking', 'third', 'though', 'thought',\n",
       "       'three', 'thriller', 'throughout', 'times', 'title', 'today',\n",
       "       'together', 'told', 'tom', 'took', 'top', 'total', 'totally',\n",
       "       'towards', 'town', 'train', 'trash', 'tried', 'tries', 'trouble',\n",
       "       'true', 'truly', 'truth', 'try', 'trying', 'turn', 'turned',\n",
       "       'turns', 'tv', 'twist', 'type', 'typical', 'ultimately', 'under',\n",
       "       'understand', 'unfortunately', 'unique', 'unless', 'unlike',\n",
       "       'until', 'upon', 'us', 'use', 'used', 'uses', 'using', 'usual',\n",
       "       'usually', 'value', 'van', 'various', 'version', 'video', 'view',\n",
       "       'viewer', 'viewers', 'viewing', 'villain', 'violence', 'violent',\n",
       "       'visual', 'voice', 'wait', 'waiting', 'want', 'wanted', 'wants',\n",
       "       'war', 'wasn', 'waste', 'wasted', 'watched', 'water', 'ways',\n",
       "       'weak', 'weird', 'went', 'western', 'whatever', 'whether', 'white',\n",
       "       'whole', 'whom', 'whose', 'wife', 'william', 'wish', 'within',\n",
       "       'without', 'woman', 'women', 'won', 'wonder', 'wonderful', 'word',\n",
       "       'words', 'work', 'worked', 'working', 'works', 'world', 'worse',\n",
       "       'worst', 'worth', 'wouldn', 'write', 'writer', 'writers',\n",
       "       'writing', 'written', 'wrong', 'wrote', 'yeah', 'year', 'years',\n",
       "       'yes', 'yet', 'york', 'young', 'younger', 'yourself', 'zombie'],\n",
       "      dtype=object)"
      ]
     },
     "execution_count": 14,
     "metadata": {},
     "output_type": "execute_result"
    }
   ],
   "source": [
    "feature_names = np.array(cv.get_feature_names_out())\n",
    "feature_names"
   ]
  },
  {
   "cell_type": "code",
   "execution_count": null,
   "id": "6f58bfcf",
   "metadata": {},
   "outputs": [
    {
     "name": "stdout",
     "output_type": "stream",
     "text": [
      "topic  1 : action(1.30) john(0.95) director(0.76) cast(0.76) role(0.70) black(0.70) star(0.68) new(0.64) plays(0.62) michael(0.60) \n",
      "topic  2 : family(1.97) young(1.88) father(1.67) woman(1.35) mother(1.33) wife(1.29) old(1.18) girl(1.11) son(1.10) home(0.93) \n",
      "topic  3 : us(0.84) world(0.80) seems(0.73) director(0.72) between(0.67) work(0.66) real(0.62) point(0.62) may(0.62) own(0.60) \n",
      "topic  4 : horror(3.41) effects(1.20) pretty(1.12) killer(1.06) blood(0.98) gore(0.97) budget(0.88) scary(0.80) special(0.79) dead(0.77) \n",
      "topic  5 : book(2.45) music(2.39) version(1.57) original(1.13) read(1.09) song(1.05) dvd(1.01) songs(0.87) saw(0.83) years(0.83) \n",
      "topic  6 : worst(1.48) actors(1.06) minutes(1.05) script(0.99) awful(0.96) nothing(0.94) terrible(0.88) waste(0.84) money(0.79) boring(0.78) \n",
      "topic  7 : show(4.48) series(3.90) tv(2.28) war(2.26) years(1.92) episode(1.89) new(1.12) shows(1.09) episodes(1.04) television(1.01) \n",
      "topic  8 : guy(1.24) going(1.05) didn(1.02) re(0.99) now(0.86) want(0.83) got(0.82) right(0.74) things(0.73) ll(0.72) \n",
      "topic  9 : performance(1.84) role(1.82) actors(1.67) cast(1.62) excellent(1.27) actor(1.23) performances(1.04) job(1.03) 10(0.94) played(0.88) \n",
      "topic  10 : funny(7.38) comedy(5.72) show(3.21) humor(2.25) fun(2.17) laugh(1.81) jokes(1.73) hilarious(1.67) laughs(0.95) kids(0.78) \n"
     ]
    }
   ],
   "source": [
    "# \n",
    "for idx, words in enumerate(lda.components_):\n",
    "    total = words.sum()\n",
    "    largest = words.argsort()[::-1]\n",
    "    print(f\"topic {idx+1 : 2}\", end=\" : \")\n",
    "\n",
    "    for i in range(0, 10):\n",
    "        print(f\"{feature_names[largest[i]]}({words[largest[i]] * 100 / total:.2f})\", end=\" \")\n",
    "\n",
    "    print()"
   ]
  },
  {
   "cell_type": "code",
   "execution_count": null,
   "id": "a579bd60",
   "metadata": {},
   "outputs": [],
   "source": []
  }
 ],
 "metadata": {
  "kernelspec": {
   "display_name": "multi02_tensor",
   "language": "python",
   "name": "python3"
  },
  "language_info": {
   "codemirror_mode": {
    "name": "ipython",
    "version": 3
   },
   "file_extension": ".py",
   "mimetype": "text/x-python",
   "name": "python",
   "nbconvert_exporter": "python",
   "pygments_lexer": "ipython3",
   "version": "3.9.23"
  }
 },
 "nbformat": 4,
 "nbformat_minor": 5
}
