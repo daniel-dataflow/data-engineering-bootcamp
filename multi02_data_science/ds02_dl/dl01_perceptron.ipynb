{
 "cells": [
  {
   "cell_type": "markdown",
   "id": "95693ad7",
   "metadata": {},
   "source": [
    "perceptron : neuron을 본따서 만듣 객체.\n",
    "\n",
    "- 여러 개의 입력을 받아서 하나로 출력\n",
    "    \n",
    "    ex) Y = W1 * X1 + W2 * X2 + b(입력이 2개)\n",
    "\n",
    "W : 가중치 (weight)\n",
    "\n",
    "b : 편향(bias)"
   ]
  },
  {
   "cell_type": "code",
   "execution_count": 1,
   "id": "f4e6fb37",
   "metadata": {},
   "outputs": [],
   "source": [
    "import numpy as np"
   ]
  },
  {
   "cell_type": "code",
   "execution_count": null,
   "id": "779b51da",
   "metadata": {},
   "outputs": [],
   "source": [
    "# 계산이 완료 되고 활성화 함수로 감싼다.\n",
    "def perceptron(x, w, b):\n",
    "    result = np.sum(w * x) + b\n",
    "\n",
    "    # binary step\n",
    "    if result < 0:\n",
    "        return 0\n",
    "    else:\n",
    "        return 1 "
   ]
  },
  {
   "cell_type": "code",
   "execution_count": 3,
   "id": "ff54c249",
   "metadata": {},
   "outputs": [],
   "source": [
    "x_list = np.array([[0, 0], [0, 1], [1, 0], [1, 1]])"
   ]
  },
  {
   "cell_type": "code",
   "execution_count": 5,
   "id": "32191aeb",
   "metadata": {},
   "outputs": [
    {
     "name": "stdout",
     "output_type": "stream",
     "text": [
      "[0 0] : 0\n",
      "[0 1] : 0\n",
      "[1 0] : 0\n",
      "[1 1] : 1\n"
     ]
    }
   ],
   "source": [
    "# and\n",
    "w = np.array([0.5, 0.5])\n",
    "b = -0.7\n",
    "\n",
    "for x in x_list:\n",
    "    print(f\"{x} : {perceptron(x, w, b)}\")"
   ]
  },
  {
   "cell_type": "code",
   "execution_count": 9,
   "id": "f3755e3e",
   "metadata": {},
   "outputs": [
    {
     "name": "stdout",
     "output_type": "stream",
     "text": [
      "[0 0] : 0\n",
      "[0 1] : 1\n",
      "[1 0] : 1\n",
      "[1 1] : 1\n"
     ]
    }
   ],
   "source": [
    "# or\n",
    "w = np.array([0.5, 0.5])\n",
    "b = -0.4\n",
    "\n",
    "for x in x_list:\n",
    "    print(f\"{x} : {perceptron(x, w, b)}\")"
   ]
  },
  {
   "cell_type": "code",
   "execution_count": 10,
   "id": "1cfb2bb8",
   "metadata": {},
   "outputs": [
    {
     "name": "stdout",
     "output_type": "stream",
     "text": [
      "[0 0] : 1\n",
      "[0 1] : 1\n",
      "[1 0] : 1\n",
      "[1 1] : 0\n"
     ]
    }
   ],
   "source": [
    "# nand : not + and = 1, 1, 1, 0\n",
    "w = np.array([-0.5, -0.5])\n",
    "b = 0.7\n",
    "\n",
    "for x in x_list:\n",
    "    print(f\"{x} : {perceptron(x, w, b)}\")"
   ]
  },
  {
   "cell_type": "markdown",
   "id": "db5508c3",
   "metadata": {},
   "source": [
    "XOR 위키백과 그림\n",
    "\n",
    "![](https://upload.wikimedia.org/wikipedia/commons/a/a2/254px_3gate_XOR.jpg)"
   ]
  },
  {
   "cell_type": "code",
   "execution_count": 11,
   "id": "4358255d",
   "metadata": {},
   "outputs": [
    {
     "name": "stdout",
     "output_type": "stream",
     "text": [
      "[0 0] : 0\n",
      "[0 1] : 1\n",
      "[1 0] : 1\n",
      "[1 1] : 0\n"
     ]
    }
   ],
   "source": [
    "# xor ?\n",
    "for x in x_list:\n",
    "    nand_res = perceptron(x, [-0.5, -0.5], 0.7)\n",
    "    or_res = perceptron(x, [0.5, 0.5], -0.4)\n",
    "    xor_res = perceptron(np.array([nand_res, or_res]), [0.5, 0.5], -0.7)\n",
    "    print(f\"{x} : {xor_res}\")"
   ]
  },
  {
   "cell_type": "code",
   "execution_count": null,
   "id": "c2aa2bd4",
   "metadata": {},
   "outputs": [],
   "source": []
  }
 ],
 "metadata": {
  "kernelspec": {
   "display_name": "multi02",
   "language": "python",
   "name": "python3"
  },
  "language_info": {
   "codemirror_mode": {
    "name": "ipython",
    "version": 3
   },
   "file_extension": ".py",
   "mimetype": "text/x-python",
   "name": "python",
   "nbconvert_exporter": "python",
   "pygments_lexer": "ipython3",
   "version": "3.14.0"
  }
 },
 "nbformat": 4,
 "nbformat_minor": 5
}
