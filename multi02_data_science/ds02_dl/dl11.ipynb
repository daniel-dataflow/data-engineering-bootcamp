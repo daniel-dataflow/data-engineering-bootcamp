{
 "cells": [
  {
   "cell_type": "code",
   "execution_count": null,
   "id": "4a6841c9",
   "metadata": {},
   "outputs": [],
   "source": [
    "# 학습중에 컴퓨터가 꺼지거나 멈췄을 때 기존에 저장된 파일로 이어서 학습하는 방법을 알아보자.\n",
    "\n",
    "import os\n",
    "\n",
    "from tensorflow.keras.datasets.mnist import load_data\n",
    "from tensorflow.keras.models import Sequential\n",
    "from tensorflow.keras.layers import Flatten, Dense\n",
    "from tensorflow.keras.callbacks import EarlyStopping"
   ]
  },
  {
   "cell_type": "code",
   "execution_count": 2,
   "id": "9e36defa",
   "metadata": {},
   "outputs": [],
   "source": [
    "(x_train, y_train), (x_test, y_test) = load_data()"
   ]
  },
  {
   "cell_type": "code",
   "execution_count": null,
   "id": "9e72d431",
   "metadata": {},
   "outputs": [],
   "source": [
    "x_train_scale = x_train / 255.0\n",
    "x_test_scale = x_test / 255.0"
   ]
  },
  {
   "cell_type": "code",
   "execution_count": 4,
   "id": "58dae9ba",
   "metadata": {},
   "outputs": [],
   "source": [
    "model = Sequential([\n",
    "    Flatten(),\n",
    "    Dense(8, activation=\"relu\"),\n",
    "    Dense(32, activation=\"relu\"),\n",
    "    Dense(10, activation=\"softmax\")\n",
    "])\n"
   ]
  },
  {
   "cell_type": "code",
   "execution_count": 5,
   "id": "fc326421",
   "metadata": {},
   "outputs": [],
   "source": [
    "model.compile(loss=\"sparse_categorical_crossentropy\", optimizer=\"adam\", metrics=[\"acc\"])"
   ]
  },
  {
   "cell_type": "code",
   "execution_count": 6,
   "id": "e851e086",
   "metadata": {},
   "outputs": [
    {
     "name": "stdout",
     "output_type": "stream",
     "text": [
      "['2025_10_27_14_31_12_0.2266.keras', '2025_10_27_14_31_11_0.2288.keras', '2025_10_27_14_31_3_0.2636.keras', '2025_10_27_14_27_5_0.2593.keras', '2025_10_27_14_27_25_0.2165.keras', '2025_10_27_14_31_2_0.2843.keras', '2025_10_27_14_31_8_0.2367.keras', '2025_10_27_14_27_2_0.3124.keras', '2025_10_27_14_27_27_0.2151.keras', '2025_10_27_14_27_29_0.2126.keras', '2025_10_27_14_27_3_0.2902.keras', '2025_10_27_14_31_16_0.2193.keras', '2025_10_27_14_31_5_0.2468.keras', '2025_10_27_14_27_12_0.2289.keras', '2025_10_27_14_31_1_0.3285.keras', '2025_10_27_14_27_11_0.2300.keras', '2025_10_27_14_31_18_0.2111.keras', '2025_10_27_14_27_4_0.2759.keras', '2025_10_27_14_27_13_0.2233.keras', '2025_10_27_14_27_7_0.2417.keras', '2025_10_27_14_31_9_0.2336.keras', '2025_10_27_14_27_1_0.3589.keras', '2025_10_27_14_27_8_0.2376.keras', '2025_10_27_14_31_4_0.2487.keras', '2025_10_27_14_31_26_0.2083.keras', '2025_10_27_14_31_38_0.2082.keras', '2025_10_27_14_31_6_0.2450.keras', '2025_10_27_14_31_7_0.2379.keras', '2025_10_27_14_27_22_0.2176.keras', '2025_10_27_14_27_10_0.2344.keras', '2025_10_27_14_27_6_0.2497.keras', '2025_10_27_14_27_9_0.2357.keras', '2025_10_27_14_31_13_0.2251.keras', '2025_10_27_14_27_17_0.2183.keras', '2025_10_27_14_31_10_0.2299.keras', '2025_10_27_14_27_15_0.2209.keras']\n"
     ]
    }
   ],
   "source": [
    "load_dir = \"dl10_checkpoints\"\n",
    "\n",
    "if os.path.exists(load_dir):\n",
    "    ckpt_list = os.listdir(load_dir)\n",
    "\n",
    "print(ckpt_list)"
   ]
  },
  {
   "cell_type": "code",
   "execution_count": 7,
   "id": "880efded",
   "metadata": {},
   "outputs": [],
   "source": [
    "model.build(input_shape=x_train_scale.shape)"
   ]
  },
  {
   "cell_type": "code",
   "execution_count": null,
   "id": "ccdf539a",
   "metadata": {},
   "outputs": [
    {
     "data": {
      "text/plain": [
       "'dl10_checkpoints/2025_10_27_14_27_13_0.2233.keras'"
      ]
     },
     "execution_count": 8,
     "metadata": {},
     "output_type": "execute_result"
    }
   ],
   "source": [
    "# 파일중에 중간에 해당되는 파일을 가져와라\n",
    "path = load_dir + \"/\" + ckpt_list[len(ckpt_list) // 2]\n",
    "path"
   ]
  },
  {
   "cell_type": "code",
   "execution_count": null,
   "id": "78edcded",
   "metadata": {},
   "outputs": [
    {
     "name": "stderr",
     "output_type": "stream",
     "text": [
      "/Users/handaeseong/dev/data-engineer/miniconda3/envs/multi02_tensor/lib/python3.9/site-packages/keras/src/saving/saving_lib.py:802: UserWarning: Skipping variable loading for optimizer 'adam', because it has 2 variables whereas the saved optimizer has 14 variables. \n",
      "  saveable.load_own_variables(weights_store.get(inner_path))\n"
     ]
    }
   ],
   "source": [
    "# 파일에 있는 W 와 b을 모델에 저장해라\n",
    "model.load_weights(path)"
   ]
  },
  {
   "cell_type": "code",
   "execution_count": 10,
   "id": "05090c8c",
   "metadata": {},
   "outputs": [
    {
     "name": "stdout",
     "output_type": "stream",
     "text": [
      "Epoch 1/100\n",
      "\u001b[1m480/480\u001b[0m \u001b[32m━━━━━━━━━━━━━━━━━━━━\u001b[0m\u001b[37m\u001b[0m \u001b[1m1s\u001b[0m 926us/step - acc: 0.9413 - loss: 0.2002 - val_acc: 0.9353 - val_loss: 0.2279\n",
      "Epoch 2/100\n",
      "\u001b[1m480/480\u001b[0m \u001b[32m━━━━━━━━━━━━━━━━━━━━\u001b[0m\u001b[37m\u001b[0m \u001b[1m0s\u001b[0m 757us/step - acc: 0.9439 - loss: 0.1951 - val_acc: 0.9348 - val_loss: 0.2245\n",
      "Epoch 3/100\n",
      "\u001b[1m480/480\u001b[0m \u001b[32m━━━━━━━━━━━━━━━━━━━━\u001b[0m\u001b[37m\u001b[0m \u001b[1m0s\u001b[0m 758us/step - acc: 0.9424 - loss: 0.1920 - val_acc: 0.9383 - val_loss: 0.2200\n",
      "Epoch 4/100\n",
      "\u001b[1m480/480\u001b[0m \u001b[32m━━━━━━━━━━━━━━━━━━━━\u001b[0m\u001b[37m\u001b[0m \u001b[1m0s\u001b[0m 925us/step - acc: 0.9431 - loss: 0.1920 - val_acc: 0.9373 - val_loss: 0.2251\n",
      "Epoch 5/100\n",
      "\u001b[1m480/480\u001b[0m \u001b[32m━━━━━━━━━━━━━━━━━━━━\u001b[0m\u001b[37m\u001b[0m \u001b[1m0s\u001b[0m 794us/step - acc: 0.9455 - loss: 0.1851 - val_acc: 0.9366 - val_loss: 0.2247\n",
      "Epoch 6/100\n",
      "\u001b[1m480/480\u001b[0m \u001b[32m━━━━━━━━━━━━━━━━━━━━\u001b[0m\u001b[37m\u001b[0m \u001b[1m0s\u001b[0m 880us/step - acc: 0.9448 - loss: 0.1910 - val_acc: 0.9367 - val_loss: 0.2244\n"
     ]
    }
   ],
   "source": [
    "result = model.fit(x_train_scale, y_train, batch_size=100, epochs=100, callbacks=[EarlyStopping(monitor=\"val_loss\", patience=3)], validation_split=0.2 )"
   ]
  },
  {
   "cell_type": "code",
   "execution_count": 11,
   "id": "9d74e00f",
   "metadata": {},
   "outputs": [
    {
     "name": "stdout",
     "output_type": "stream",
     "text": [
      "\u001b[1m313/313\u001b[0m \u001b[32m━━━━━━━━━━━━━━━━━━━━\u001b[0m\u001b[37m\u001b[0m \u001b[1m0s\u001b[0m 509us/step - acc: 0.9265 - loss: 0.2454\n"
     ]
    },
    {
     "data": {
      "text/plain": [
       "[0.21906542778015137, 0.9350000023841858]"
      ]
     },
     "execution_count": 11,
     "metadata": {},
     "output_type": "execute_result"
    }
   ],
   "source": [
    "model.evaluate(x_test_scale, y_test)"
   ]
  },
  {
   "cell_type": "code",
   "execution_count": null,
   "id": "907b491f",
   "metadata": {},
   "outputs": [],
   "source": []
  }
 ],
 "metadata": {
  "kernelspec": {
   "display_name": "multi02_tensor",
   "language": "python",
   "name": "python3"
  },
  "language_info": {
   "codemirror_mode": {
    "name": "ipython",
    "version": 3
   },
   "file_extension": ".py",
   "mimetype": "text/x-python",
   "name": "python",
   "nbconvert_exporter": "python",
   "pygments_lexer": "ipython3",
   "version": "3.9.23"
  }
 },
 "nbformat": 4,
 "nbformat_minor": 5
}
