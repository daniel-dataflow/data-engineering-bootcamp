{
 "cells": [
  {
   "cell_type": "code",
   "execution_count": 121,
   "id": "71a1c167",
   "metadata": {},
   "outputs": [],
   "source": [
    "import seaborn as sns\n",
    "import matplotlib.pyplot as plt\n",
    "import pandas as pd\n",
    "\n",
    "from sklearn.preprocessing import StandardScaler\n",
    "from sklearn.cluster import KMeans, MeanShift, estimate_bandwidth, DBSCAN\n",
    "\n",
    "from sklearn.metrics.cluster import silhouette_score, adjusted_rand_score\n",
    "from sklearn.metrics import normalized_mutual_info_score"
   ]
  },
  {
   "cell_type": "code",
   "execution_count": 122,
   "id": "0fcd05a9",
   "metadata": {},
   "outputs": [],
   "source": [
    "penguins = sns.load_dataset(\"penguins\")\n",
    "penguins = penguins.sample(frac=1).reset_index(drop=True)"
   ]
  },
  {
   "cell_type": "code",
   "execution_count": 123,
   "id": "69e13901",
   "metadata": {},
   "outputs": [],
   "source": [
    "# 펭귄 bill_lenght_mm, bill_depth_mm, filpper_length_mm, body_mass_g 를 가지고\n",
    "# 스케일링 후, k-means, mean shift, dbscan으로 군집하자\n",
    "# k-means는 최적의 k를 찾을 수 있도록 elbow graph 그리고, 실루엣 점수로 그래프 그린 후\n",
    "# k를 확정하여 학습하자\n",
    "# 각 모델의 ari, nmi, 실루엣 점수를 출력하자."
   ]
  },
  {
   "cell_type": "code",
   "execution_count": 124,
   "id": "eeef86ed",
   "metadata": {},
   "outputs": [
    {
     "data": {
      "text/html": [
       "<div>\n",
       "<style scoped>\n",
       "    .dataframe tbody tr th:only-of-type {\n",
       "        vertical-align: middle;\n",
       "    }\n",
       "\n",
       "    .dataframe tbody tr th {\n",
       "        vertical-align: top;\n",
       "    }\n",
       "\n",
       "    .dataframe thead th {\n",
       "        text-align: right;\n",
       "    }\n",
       "</style>\n",
       "<table border=\"1\" class=\"dataframe\">\n",
       "  <thead>\n",
       "    <tr style=\"text-align: right;\">\n",
       "      <th></th>\n",
       "      <th>species</th>\n",
       "      <th>island</th>\n",
       "      <th>bill_length_mm</th>\n",
       "      <th>bill_depth_mm</th>\n",
       "      <th>flipper_length_mm</th>\n",
       "      <th>body_mass_g</th>\n",
       "      <th>sex</th>\n",
       "    </tr>\n",
       "  </thead>\n",
       "  <tbody>\n",
       "    <tr>\n",
       "      <th>0</th>\n",
       "      <td>Adelie</td>\n",
       "      <td>Torgersen</td>\n",
       "      <td>36.2</td>\n",
       "      <td>16.1</td>\n",
       "      <td>187.0</td>\n",
       "      <td>3550.0</td>\n",
       "      <td>Female</td>\n",
       "    </tr>\n",
       "    <tr>\n",
       "      <th>1</th>\n",
       "      <td>Gentoo</td>\n",
       "      <td>Biscoe</td>\n",
       "      <td>50.8</td>\n",
       "      <td>17.3</td>\n",
       "      <td>228.0</td>\n",
       "      <td>5600.0</td>\n",
       "      <td>Male</td>\n",
       "    </tr>\n",
       "    <tr>\n",
       "      <th>2</th>\n",
       "      <td>Gentoo</td>\n",
       "      <td>Biscoe</td>\n",
       "      <td>55.9</td>\n",
       "      <td>17.0</td>\n",
       "      <td>228.0</td>\n",
       "      <td>5600.0</td>\n",
       "      <td>Male</td>\n",
       "    </tr>\n",
       "    <tr>\n",
       "      <th>3</th>\n",
       "      <td>Adelie</td>\n",
       "      <td>Dream</td>\n",
       "      <td>41.1</td>\n",
       "      <td>17.5</td>\n",
       "      <td>190.0</td>\n",
       "      <td>3900.0</td>\n",
       "      <td>Male</td>\n",
       "    </tr>\n",
       "    <tr>\n",
       "      <th>4</th>\n",
       "      <td>Chinstrap</td>\n",
       "      <td>Dream</td>\n",
       "      <td>51.3</td>\n",
       "      <td>18.2</td>\n",
       "      <td>197.0</td>\n",
       "      <td>3750.0</td>\n",
       "      <td>Male</td>\n",
       "    </tr>\n",
       "    <tr>\n",
       "      <th>...</th>\n",
       "      <td>...</td>\n",
       "      <td>...</td>\n",
       "      <td>...</td>\n",
       "      <td>...</td>\n",
       "      <td>...</td>\n",
       "      <td>...</td>\n",
       "      <td>...</td>\n",
       "    </tr>\n",
       "    <tr>\n",
       "      <th>339</th>\n",
       "      <td>Adelie</td>\n",
       "      <td>Biscoe</td>\n",
       "      <td>41.3</td>\n",
       "      <td>21.1</td>\n",
       "      <td>195.0</td>\n",
       "      <td>4400.0</td>\n",
       "      <td>Male</td>\n",
       "    </tr>\n",
       "    <tr>\n",
       "      <th>340</th>\n",
       "      <td>Adelie</td>\n",
       "      <td>Dream</td>\n",
       "      <td>37.3</td>\n",
       "      <td>17.8</td>\n",
       "      <td>191.0</td>\n",
       "      <td>3350.0</td>\n",
       "      <td>Female</td>\n",
       "    </tr>\n",
       "    <tr>\n",
       "      <th>341</th>\n",
       "      <td>Adelie</td>\n",
       "      <td>Torgersen</td>\n",
       "      <td>34.6</td>\n",
       "      <td>21.1</td>\n",
       "      <td>198.0</td>\n",
       "      <td>4400.0</td>\n",
       "      <td>Male</td>\n",
       "    </tr>\n",
       "    <tr>\n",
       "      <th>342</th>\n",
       "      <td>Gentoo</td>\n",
       "      <td>Biscoe</td>\n",
       "      <td>50.8</td>\n",
       "      <td>15.7</td>\n",
       "      <td>226.0</td>\n",
       "      <td>5200.0</td>\n",
       "      <td>Male</td>\n",
       "    </tr>\n",
       "    <tr>\n",
       "      <th>343</th>\n",
       "      <td>Adelie</td>\n",
       "      <td>Biscoe</td>\n",
       "      <td>37.6</td>\n",
       "      <td>19.1</td>\n",
       "      <td>194.0</td>\n",
       "      <td>3750.0</td>\n",
       "      <td>Male</td>\n",
       "    </tr>\n",
       "  </tbody>\n",
       "</table>\n",
       "<p>333 rows × 7 columns</p>\n",
       "</div>"
      ],
      "text/plain": [
       "       species     island  bill_length_mm  bill_depth_mm  flipper_length_mm  \\\n",
       "0       Adelie  Torgersen            36.2           16.1              187.0   \n",
       "1       Gentoo     Biscoe            50.8           17.3              228.0   \n",
       "2       Gentoo     Biscoe            55.9           17.0              228.0   \n",
       "3       Adelie      Dream            41.1           17.5              190.0   \n",
       "4    Chinstrap      Dream            51.3           18.2              197.0   \n",
       "..         ...        ...             ...            ...                ...   \n",
       "339     Adelie     Biscoe            41.3           21.1              195.0   \n",
       "340     Adelie      Dream            37.3           17.8              191.0   \n",
       "341     Adelie  Torgersen            34.6           21.1              198.0   \n",
       "342     Gentoo     Biscoe            50.8           15.7              226.0   \n",
       "343     Adelie     Biscoe            37.6           19.1              194.0   \n",
       "\n",
       "     body_mass_g     sex  \n",
       "0         3550.0  Female  \n",
       "1         5600.0    Male  \n",
       "2         5600.0    Male  \n",
       "3         3900.0    Male  \n",
       "4         3750.0    Male  \n",
       "..           ...     ...  \n",
       "339       4400.0    Male  \n",
       "340       3350.0  Female  \n",
       "341       4400.0    Male  \n",
       "342       5200.0    Male  \n",
       "343       3750.0    Male  \n",
       "\n",
       "[333 rows x 7 columns]"
      ]
     },
     "execution_count": 124,
     "metadata": {},
     "output_type": "execute_result"
    }
   ],
   "source": [
    "penguins.dropna(inplace=True)\n",
    "penguins"
   ]
  },
  {
   "cell_type": "code",
   "execution_count": 125,
   "id": "a65ac33c",
   "metadata": {},
   "outputs": [],
   "source": [
    "x = penguins[[\"bill_length_mm\", \"bill_depth_mm\", \"flipper_length_mm\", \"body_mass_g\"]]"
   ]
  },
  {
   "cell_type": "code",
   "execution_count": 126,
   "id": "68ba2e32",
   "metadata": {},
   "outputs": [],
   "source": [
    "sclaer = StandardScaler()"
   ]
  },
  {
   "cell_type": "code",
   "execution_count": 127,
   "id": "4c0beb56",
   "metadata": {},
   "outputs": [],
   "source": [
    "x_sclaer = sclaer.fit_transform(x)"
   ]
  },
  {
   "cell_type": "code",
   "execution_count": 128,
   "id": "ca4dcdd7",
   "metadata": {},
   "outputs": [
    {
     "data": {
      "text/plain": [
       "[<matplotlib.lines.Line2D at 0x1e0764b9310>]"
      ]
     },
     "execution_count": 128,
     "metadata": {},
     "output_type": "execute_result"
    },
    {
     "data": {
      "image/png": "[encoded data removed]",
      "text/plain": [
       "<Figure size 640x480 with 1 Axes>"
      ]
     },
     "metadata": {},
     "output_type": "display_data"
    }
   ],
   "source": [
    "inertia_list = list()\n",
    "\n",
    "for i in range(1, 10):\n",
    "    model = KMeans(n_clusters=i, n_init=\"auto\", random_state=1)\n",
    "    model.fit(x_sclaer)\n",
    "    inertia_list.append(model.inertia_)\n",
    "\n",
    "# x: cluster 갯수\n",
    "# y : inertia 값\n",
    "#  elbow graph : 적절한 k의 값을 찾기 위해 k를 변화 시켜보자.\n",
    "#  -> inertia 의 변화가 급격한 부분이 적절한 k이다!!\n",
    "# 중심까지의 변화가 어떻게 되는데?\n",
    "plt.plot(range(1, 10), inertia_list)"
   ]
  },
  {
   "cell_type": "code",
   "execution_count": 129,
   "id": "1f07242a",
   "metadata": {},
   "outputs": [
    {
     "data": {
      "text/plain": [
       "[<matplotlib.lines.Line2D at 0x1e07658cdd0>]"
      ]
     },
     "execution_count": 129,
     "metadata": {},
     "output_type": "execute_result"
    },
    {
     "data": {
      "image/png": "[encoded data removed]",
      "text/plain": [
       "<Figure size 640x480 with 1 Axes>"
      ]
     },
     "metadata": {},
     "output_type": "display_data"
    }
   ],
   "source": [
    "silhouette_score_list = list()\n",
    "\n",
    "for i in range(2, 10):\n",
    "    model = KMeans(n_clusters=i, n_init=\"auto\", random_state=1)\n",
    "    model.fit(x_sclaer)\n",
    "    silhouette_score_list.append(silhouette_score(x_sclaer, model.labels_))\n",
    "\n",
    "\n",
    "plt.plot(range(2, 10), silhouette_score_list)"
   ]
  },
  {
   "cell_type": "code",
   "execution_count": 159,
   "id": "ec071dd2",
   "metadata": {},
   "outputs": [],
   "source": [
    "from sklearn.preprocessing import LabelEncoder"
   ]
  },
  {
   "cell_type": "code",
   "execution_count": 174,
   "id": "ca889223",
   "metadata": {},
   "outputs": [
    {
     "data": {
      "text/html": [
       "<div>\n",
       "<style scoped>\n",
       "    .dataframe tbody tr th:only-of-type {\n",
       "        vertical-align: middle;\n",
       "    }\n",
       "\n",
       "    .dataframe tbody tr th {\n",
       "        vertical-align: top;\n",
       "    }\n",
       "\n",
       "    .dataframe thead th {\n",
       "        text-align: right;\n",
       "    }\n",
       "</style>\n",
       "<table border=\"1\" class=\"dataframe\">\n",
       "  <thead>\n",
       "    <tr style=\"text-align: right;\">\n",
       "      <th></th>\n",
       "      <th>x01</th>\n",
       "      <th>x02</th>\n",
       "      <th>x03</th>\n",
       "      <th>x04</th>\n",
       "      <th>species</th>\n",
       "    </tr>\n",
       "  </thead>\n",
       "  <tbody>\n",
       "    <tr>\n",
       "      <th>0</th>\n",
       "      <td>-1.427134</td>\n",
       "      <td>-0.541564</td>\n",
       "      <td>-0.998018</td>\n",
       "      <td>-0.817229</td>\n",
       "      <td>0</td>\n",
       "    </tr>\n",
       "    <tr>\n",
       "      <th>1</th>\n",
       "      <td>1.246638</td>\n",
       "      <td>0.068726</td>\n",
       "      <td>1.931662</td>\n",
       "      <td>1.732503</td>\n",
       "      <td>2</td>\n",
       "    </tr>\n",
       "    <tr>\n",
       "      <th>2</th>\n",
       "      <td>2.180627</td>\n",
       "      <td>-0.083846</td>\n",
       "      <td>1.931662</td>\n",
       "      <td>1.732503</td>\n",
       "      <td>2</td>\n",
       "    </tr>\n",
       "    <tr>\n",
       "      <th>3</th>\n",
       "      <td>-0.529772</td>\n",
       "      <td>0.170442</td>\n",
       "      <td>-0.783651</td>\n",
       "      <td>-0.381909</td>\n",
       "      <td>0</td>\n",
       "    </tr>\n",
       "    <tr>\n",
       "      <th>4</th>\n",
       "      <td>1.338206</td>\n",
       "      <td>0.526444</td>\n",
       "      <td>-0.283462</td>\n",
       "      <td>-0.568475</td>\n",
       "      <td>1</td>\n",
       "    </tr>\n",
       "    <tr>\n",
       "      <th>...</th>\n",
       "      <td>...</td>\n",
       "      <td>...</td>\n",
       "      <td>...</td>\n",
       "      <td>...</td>\n",
       "      <td>...</td>\n",
       "    </tr>\n",
       "    <tr>\n",
       "      <th>328</th>\n",
       "      <td>-0.493145</td>\n",
       "      <td>2.001313</td>\n",
       "      <td>-0.426373</td>\n",
       "      <td>0.239977</td>\n",
       "      <td>0</td>\n",
       "    </tr>\n",
       "    <tr>\n",
       "      <th>329</th>\n",
       "      <td>-1.225685</td>\n",
       "      <td>0.323014</td>\n",
       "      <td>-0.712196</td>\n",
       "      <td>-1.065984</td>\n",
       "      <td>0</td>\n",
       "    </tr>\n",
       "    <tr>\n",
       "      <th>330</th>\n",
       "      <td>-1.720150</td>\n",
       "      <td>2.001313</td>\n",
       "      <td>-0.212006</td>\n",
       "      <td>0.239977</td>\n",
       "      <td>0</td>\n",
       "    </tr>\n",
       "    <tr>\n",
       "      <th>331</th>\n",
       "      <td>1.246638</td>\n",
       "      <td>-0.744994</td>\n",
       "      <td>1.788750</td>\n",
       "      <td>1.234995</td>\n",
       "      <td>2</td>\n",
       "    </tr>\n",
       "    <tr>\n",
       "      <th>332</th>\n",
       "      <td>-1.170744</td>\n",
       "      <td>0.984162</td>\n",
       "      <td>-0.497829</td>\n",
       "      <td>-0.568475</td>\n",
       "      <td>0</td>\n",
       "    </tr>\n",
       "  </tbody>\n",
       "</table>\n",
       "<p>333 rows × 5 columns</p>\n",
       "</div>"
      ],
      "text/plain": [
       "          x01       x02       x03       x04  species\n",
       "0   -1.427134 -0.541564 -0.998018 -0.817229        0\n",
       "1    1.246638  0.068726  1.931662  1.732503        2\n",
       "2    2.180627 -0.083846  1.931662  1.732503        2\n",
       "3   -0.529772  0.170442 -0.783651 -0.381909        0\n",
       "4    1.338206  0.526444 -0.283462 -0.568475        1\n",
       "..        ...       ...       ...       ...      ...\n",
       "328 -0.493145  2.001313 -0.426373  0.239977        0\n",
       "329 -1.225685  0.323014 -0.712196 -1.065984        0\n",
       "330 -1.720150  2.001313 -0.212006  0.239977        0\n",
       "331  1.246638 -0.744994  1.788750  1.234995        2\n",
       "332 -1.170744  0.984162 -0.497829 -0.568475        0\n",
       "\n",
       "[333 rows x 5 columns]"
      ]
     },
     "execution_count": 174,
     "metadata": {},
     "output_type": "execute_result"
    }
   ],
   "source": [
    "models = pd.DataFrame(x_sclaer, columns=[\"x01\", \"x02\", \"x03\", \"x04\"])\n",
    "models[\"species\"] = LabelEncoder().fit_transform(penguins[\"species\"])\n",
    "models"
   ]
  },
  {
   "cell_type": "code",
   "execution_count": 175,
   "id": "b4c7df2b",
   "metadata": {},
   "outputs": [],
   "source": [
    "# k-means\n",
    "model01 = KMeans(n_clusters=3, n_init=\"auto\", random_state=1)\n",
    "model01.fit(x_sclaer)\n",
    "models[\"k-means\"] = model01.predict(x_sclaer)"
   ]
  },
  {
   "cell_type": "code",
   "execution_count": 176,
   "id": "c765a978",
   "metadata": {},
   "outputs": [],
   "source": [
    "# mean shift\n",
    "# estimate_bandwidth : 최적의 대여폭을 찾아줌\n",
    "bandwidth = round(estimate_bandwidth(x_sclaer), 3)\n",
    "model02 = MeanShift(bandwidth=bandwidth)\n",
    "models[\"mean-shift\"] = model02.fit(x_sclaer).labels_"
   ]
  },
  {
   "cell_type": "code",
   "execution_count": 177,
   "id": "0d216287",
   "metadata": {},
   "outputs": [],
   "source": [
    "# DBSCAN\n",
    "model03 = DBSCAN(eps=0.25)\n",
    "models[\"dbscan\"] = model03.fit_predict(x_sclaer)"
   ]
  },
  {
   "cell_type": "code",
   "execution_count": 184,
   "id": "bd048ab3",
   "metadata": {},
   "outputs": [
    {
     "data": {
      "text/html": [
       "<div>\n",
       "<style scoped>\n",
       "    .dataframe tbody tr th:only-of-type {\n",
       "        vertical-align: middle;\n",
       "    }\n",
       "\n",
       "    .dataframe tbody tr th {\n",
       "        vertical-align: top;\n",
       "    }\n",
       "\n",
       "    .dataframe thead th {\n",
       "        text-align: right;\n",
       "    }\n",
       "</style>\n",
       "<table border=\"1\" class=\"dataframe\">\n",
       "  <thead>\n",
       "    <tr style=\"text-align: right;\">\n",
       "      <th></th>\n",
       "      <th>model</th>\n",
       "    </tr>\n",
       "  </thead>\n",
       "  <tbody>\n",
       "    <tr>\n",
       "      <th>0</th>\n",
       "      <td>k-means</td>\n",
       "    </tr>\n",
       "    <tr>\n",
       "      <th>1</th>\n",
       "      <td>mean-shift</td>\n",
       "    </tr>\n",
       "    <tr>\n",
       "      <th>2</th>\n",
       "      <td>dbscan</td>\n",
       "    </tr>\n",
       "  </tbody>\n",
       "</table>\n",
       "</div>"
      ],
      "text/plain": [
       "        model\n",
       "0     k-means\n",
       "1  mean-shift\n",
       "2      dbscan"
      ]
     },
     "execution_count": 184,
     "metadata": {},
     "output_type": "execute_result"
    }
   ],
   "source": [
    "metrics_df = pd.DataFrame(models.iloc[:, 5:].columns, columns=[\"model\"])\n",
    "metrics_df"
   ]
  },
  {
   "cell_type": "code",
   "execution_count": 188,
   "id": "c2d2b26d",
   "metadata": {},
   "outputs": [],
   "source": [
    "ari = list()\n",
    "nmi = list()\n",
    "silhouette = list()\n",
    "\n",
    "for predict in models.iloc[:, 5:]:\n",
    "    ari.append(adjusted_rand_score(models[\"species\"], models[predict]))\n",
    "    nmi.append(normalized_mutual_info_score(models[\"species\"], models[predict]))\n",
    "    try:\n",
    "        silhouette.append(silhouette_score(models[[\"x01\", \"x02\", \"x03\", \"x04\"]], models[predict]))\n",
    "    except:\n",
    "        # 실루엣 계수는 2개 이상으로 클러스터링 되야 값이 나온다 (meanshift가 1개로 군집되어 있어서 error)\n",
    "        silhouette.append(0)"
   ]
  },
  {
   "cell_type": "code",
   "execution_count": 189,
   "id": "0366b699",
   "metadata": {},
   "outputs": [],
   "source": [
    "metrics_df[\"ari\"] = ari                     # 정답에 얼마나 가까운지\n",
    "metrics_df[\"nmi\"] = nmi                     # 상관관계\n",
    "metrics_df[\"silhouette\"] = silhouette       # 군집이 얼마나 잘되어 있는지"
   ]
  },
  {
   "cell_type": "code",
   "execution_count": 190,
   "id": "50dd7712",
   "metadata": {},
   "outputs": [
    {
     "data": {
      "text/html": [
       "<div>\n",
       "<style scoped>\n",
       "    .dataframe tbody tr th:only-of-type {\n",
       "        vertical-align: middle;\n",
       "    }\n",
       "\n",
       "    .dataframe tbody tr th {\n",
       "        vertical-align: top;\n",
       "    }\n",
       "\n",
       "    .dataframe thead th {\n",
       "        text-align: right;\n",
       "    }\n",
       "</style>\n",
       "<table border=\"1\" class=\"dataframe\">\n",
       "  <thead>\n",
       "    <tr style=\"text-align: right;\">\n",
       "      <th></th>\n",
       "      <th>model</th>\n",
       "      <th>ari</th>\n",
       "      <th>nmi</th>\n",
       "      <th>silhouette</th>\n",
       "    </tr>\n",
       "  </thead>\n",
       "  <tbody>\n",
       "    <tr>\n",
       "      <th>0</th>\n",
       "      <td>k-means</td>\n",
       "      <td>0.805914</td>\n",
       "      <td>0.794144</td>\n",
       "      <td>0.447011</td>\n",
       "    </tr>\n",
       "    <tr>\n",
       "      <th>1</th>\n",
       "      <td>mean-shift</td>\n",
       "      <td>0.639203</td>\n",
       "      <td>0.700494</td>\n",
       "      <td>0.520745</td>\n",
       "    </tr>\n",
       "    <tr>\n",
       "      <th>2</th>\n",
       "      <td>dbscan</td>\n",
       "      <td>0.000000</td>\n",
       "      <td>0.000000</td>\n",
       "      <td>0.000000</td>\n",
       "    </tr>\n",
       "  </tbody>\n",
       "</table>\n",
       "</div>"
      ],
      "text/plain": [
       "        model       ari       nmi  silhouette\n",
       "0     k-means  0.805914  0.794144    0.447011\n",
       "1  mean-shift  0.639203  0.700494    0.520745\n",
       "2      dbscan  0.000000  0.000000    0.000000"
      ]
     },
     "execution_count": 190,
     "metadata": {},
     "output_type": "execute_result"
    }
   ],
   "source": [
    "metrics_df"
   ]
  },
  {
   "cell_type": "code",
   "execution_count": null,
   "id": "296dd06a",
   "metadata": {},
   "outputs": [],
   "source": []
  }
 ],
 "metadata": {
  "kernelspec": {
   "display_name": "multi02",
   "language": "python",
   "name": "python3"
  },
  "language_info": {
   "codemirror_mode": {
    "name": "ipython",
    "version": 3
   },
   "file_extension": ".py",
   "mimetype": "text/x-python",
   "name": "python",
   "nbconvert_exporter": "python",
   "pygments_lexer": "ipython3",
   "version": "3.11.13"
  }
 },
 "nbformat": 4,
 "nbformat_minor": 5
}
