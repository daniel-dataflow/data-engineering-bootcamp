{
 "cells": [
  {
   "cell_type": "code",
   "execution_count": 1,
   "id": "71a1c167",
   "metadata": {},
   "outputs": [],
   "source": [
    "import seaborn as sns\n",
    "import matplotlib.pyplot as plt\n",
    "import pandas as pd\n",
    "\n",
    "from sklearn.preprocessing import StandardScaler\n",
    "from sklearn.cluster import KMeans, MeanShift, estimate_bandwidth, DBSCAN\n",
    "\n",
    "from sklearn.metrics.cluster import silhouette_score, adjusted_rand_score\n",
    "from sklearn.metrics import normalized_mutual_info_score"
   ]
  },
  {
   "cell_type": "code",
   "execution_count": 2,
   "id": "0fcd05a9",
   "metadata": {},
   "outputs": [],
   "source": [
    "penguins = sns.load_dataset(\"penguins\")\n",
    "penguins = penguins.sample(frac=1).reset_index(drop=True)"
   ]
  },
  {
   "cell_type": "code",
   "execution_count": null,
   "id": "69e13901",
   "metadata": {},
   "outputs": [],
   "source": [
    "# 펭귄 bill_lenght_mm, bill_depth_mm, filpper_length_mm, body_mass_g 를 가지고\n",
    "# 스케일링 후, k-means, mean shift, dbscan으로 군집하자\n",
    "# k-means는 최적의 k를 찾을 수 있도록 elbow graph 그리고, 실루엣 점수로 그래프 그린 후\n",
    "# k를 확정하여 학습하자\n",
    "# 각 모델의 ari, nmi, 실루엣 점수를 출력하자."
   ]
  }
 ],
 "metadata": {
  "kernelspec": {
   "display_name": "multi02",
   "language": "python",
   "name": "python3"
  },
  "language_info": {
   "codemirror_mode": {
    "name": "ipython",
    "version": 3
   },
   "file_extension": ".py",
   "mimetype": "text/x-python",
   "name": "python",
   "nbconvert_exporter": "python",
   "pygments_lexer": "ipython3",
   "version": "3.14.0"
  }
 },
 "nbformat": 4,
 "nbformat_minor": 5
}
