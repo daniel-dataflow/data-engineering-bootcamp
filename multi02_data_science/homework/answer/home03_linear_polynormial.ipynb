{
 "cells": [
  {
   "cell_type": "code",
   "execution_count": null,
   "id": "01cf0e7f",
   "metadata": {},
   "outputs": [],
   "source": [
    "import pandas as pd\n",
    "from sklearn.model_selection import train_test_split\n",
    "from sklearn.linear_model import LinearRegression\n",
    "import matplotlib.pyplot as plt"
   ]
  },
  {
   "cell_type": "code",
   "execution_count": null,
   "id": "1e8896a2",
   "metadata": {},
   "outputs": [],
   "source": [
    "# 공공데이터포털 교육부_학생건강검사 결과\n",
    "df = pd.read_csv(\"../datasets/weight_height.csv\", encoding=\"euc-kr\")\n",
    "df"
   ]
  },
  {
   "cell_type": "code",
   "execution_count": null,
   "id": "a72374e0",
   "metadata": {},
   "outputs": [],
   "source": [
    "df = df[[\"학교명\", \"학년\", \"성별\", \"키\", \"몸무게\"]]\n",
    "df"
   ]
  },
  {
   "cell_type": "code",
   "execution_count": null,
   "id": "65cd3ba8",
   "metadata": {},
   "outputs": [],
   "source": [
    "# df[\"학교명\"] -> 초등학교 = 0 / 중학교 = 6 / 고등학교 = 9 + df[\"학년\"]\n",
    "df[\"grade\"] = df[\"학교명\"].map(lambda x : 0 if x.endswith(\"초등학교\")\n",
    "                            else 6 if x.endswith(\"중학교\")\n",
    "                            else 9) + df[\"학년\"]\n",
    "df"
   ]
  },
  {
   "cell_type": "code",
   "execution_count": null,
   "id": "dfa80a5e",
   "metadata": {},
   "outputs": [],
   "source": [
    "df.drop([\"학교명\", \"학년\"], axis=\"columns\", inplace=True)"
   ]
  },
  {
   "cell_type": "code",
   "execution_count": null,
   "id": "9b27eb33",
   "metadata": {},
   "outputs": [],
   "source": [
    "df.columns = [\"gender\", \"height\", \"weight\", \"grade\"]\n",
    "df"
   ]
  },
  {
   "cell_type": "markdown",
   "id": "2654d75d",
   "metadata": {},
   "source": [
    "남학생의 몸무게를 가지고 키를 예측하자"
   ]
  },
  {
   "cell_type": "code",
   "execution_count": null,
   "id": "c5bb20b7",
   "metadata": {},
   "outputs": [],
   "source": [
    "df.isnull().sum()"
   ]
  },
  {
   "cell_type": "code",
   "execution_count": null,
   "id": "7769d441",
   "metadata": {},
   "outputs": [],
   "source": [
    "df.isna().sum()"
   ]
  },
  {
   "cell_type": "code",
   "execution_count": null,
   "id": "97660721",
   "metadata": {},
   "outputs": [],
   "source": [
    "df.dropna(inplace=True)\n",
    "print(df.isnull().sum())\n",
    "print(df.isna().sum())"
   ]
  },
  {
   "cell_type": "code",
   "execution_count": null,
   "id": "808911ab",
   "metadata": {},
   "outputs": [],
   "source": [
    "plt.scatter(df[\"weight\"], df[\"height\"], marker=\"o\")"
   ]
  },
  {
   "cell_type": "code",
   "execution_count": null,
   "id": "f2917cad",
   "metadata": {},
   "outputs": [],
   "source": [
    "gender_condition = (df[\"gender\"] == \"남\")\n",
    "\n",
    "x = df[gender_condition][[\"weight\", \"grade\"]]\n",
    "y = df[gender_condition][[\"height\"]]"
   ]
  },
  {
   "cell_type": "code",
   "execution_count": null,
   "id": "23ac6270",
   "metadata": {},
   "outputs": [],
   "source": [
    "from sklearn.preprocessing import PolynomialFeatures"
   ]
  },
  {
   "cell_type": "code",
   "execution_count": null,
   "id": "9142c23e",
   "metadata": {},
   "outputs": [],
   "source": [
    "poly = PolynomialFeatures(degree=3)"
   ]
  },
  {
   "cell_type": "code",
   "execution_count": null,
   "id": "375488bb",
   "metadata": {},
   "outputs": [],
   "source": [
    "x_poly = poly.fit_transform(x)"
   ]
  },
  {
   "cell_type": "code",
   "execution_count": null,
   "id": "fe6e2aab",
   "metadata": {},
   "outputs": [],
   "source": [
    "x_train, x_test, y_train, y_test = train_test_split(x_poly, y, test_size=0.3, random_state=1)"
   ]
  },
  {
   "cell_type": "code",
   "execution_count": null,
   "id": "079c43b1",
   "metadata": {},
   "outputs": [],
   "source": [
    "model = LinearRegression()"
   ]
  },
  {
   "cell_type": "code",
   "execution_count": null,
   "id": "2fb080d4",
   "metadata": {},
   "outputs": [],
   "source": [
    "model.fit(x_train, y_train)"
   ]
  },
  {
   "cell_type": "code",
   "execution_count": null,
   "id": "31c72e89",
   "metadata": {},
   "outputs": [],
   "source": [
    "predict = model.predict(x_test)"
   ]
  },
  {
   "cell_type": "code",
   "execution_count": null,
   "id": "935d184b",
   "metadata": {},
   "outputs": [],
   "source": [
    "y_test[\"predict\"] = predict"
   ]
  },
  {
   "cell_type": "code",
   "execution_count": null,
   "id": "79cdeade",
   "metadata": {},
   "outputs": [],
   "source": [
    "model.score(x_test, y_test[\"height\"])"
   ]
  },
  {
   "cell_type": "code",
   "execution_count": null,
   "id": "f4c6e08a",
   "metadata": {},
   "outputs": [],
   "source": [
    "import numpy as np"
   ]
  },
  {
   "cell_type": "code",
   "execution_count": null,
   "id": "fd2212e3",
   "metadata": {},
   "outputs": [],
   "source": [
    "x_pred = np.linspace(x[\"weight\"].min(), x[\"weight\"].max(), x[\"weight\"].size)"
   ]
  },
  {
   "cell_type": "code",
   "execution_count": null,
   "id": "8025d9e3",
   "metadata": {},
   "outputs": [],
   "source": [
    "plt.scatter(x[\"weight\"], y[\"height\"])\n",
    "for grade in x[\"grade\"].unique():\n",
    "    df = pd.DataFrame(x_pred, columns=[\"weight\"])\n",
    "    df[\"grade\"] = np.full(x_pred.size, grade)\n",
    "    y_pred = model.predict(poly.transform(df))\n",
    "    plt.plot(x_pred, y_pred, label=grade)\n",
    "\n",
    "plt.legend()\n",
    "plt.show()\n"
   ]
  },
  {
   "cell_type": "code",
   "execution_count": null,
   "id": "6ee08de2",
   "metadata": {},
   "outputs": [],
   "source": []
  }
 ],
 "metadata": {
  "kernelspec": {
   "display_name": "multi02",
   "language": "python",
   "name": "python3"
  },
  "language_info": {
   "codemirror_mode": {
    "name": "ipython",
    "version": 3
   },
   "file_extension": ".py",
   "mimetype": "text/x-python",
   "name": "python",
   "nbconvert_exporter": "python",
   "pygments_lexer": "ipython3",
   "version": "3.14.0"
  }
 },
 "nbformat": 4,
 "nbformat_minor": 5
}
