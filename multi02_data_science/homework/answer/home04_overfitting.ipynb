{
 "cells": [
  {
   "cell_type": "code",
   "execution_count": 25,
   "id": "d75c335d",
   "metadata": {},
   "outputs": [],
   "source": [
    "import pandas as pd\n",
    "import numpy as np"
   ]
  },
  {
   "cell_type": "code",
   "execution_count": 26,
   "id": "e24f1148",
   "metadata": {},
   "outputs": [],
   "source": [
    "data_url = \"http://lib.stat.cmu.edu/datasets/boston\"\n",
    "raw_df = pd.read_csv(data_url, sep=r\"\\s+\", skiprows=22, header=None)\n",
    "data = np.hstack([raw_df.values[::2, :], raw_df.values[1::2, :2]])\n",
    "target = raw_df.values[1::2, 2]"
   ]
  },
  {
   "cell_type": "code",
   "execution_count": 27,
   "id": "cfab8230",
   "metadata": {},
   "outputs": [],
   "source": [
    "x = pd.DataFrame(data, columns=[\"CRIM\", \"ZN\", \"INDUS\", \"CHAS\", \"NOX\",\n",
    "                                \"RM\",\"AGE\", \"DIS\",\"RAD\", \"TAX\", \"PTRATIO\", \"B\", \"LSTAT\"])\n",
    "\n",
    "y = pd.DataFrame(target, columns=[\"PRICE\"])"
   ]
  },
  {
   "cell_type": "markdown",
   "id": "f91f1f30",
   "metadata": {},
   "source": [
    "LinearRegression, Ridge, Lasso, ElasticNet 학습하여 비교하기\n",
    "\n",
    "score, coef_, intercept_"
   ]
  },
  {
   "cell_type": "code",
   "execution_count": 28,
   "id": "e5734b5b",
   "metadata": {},
   "outputs": [],
   "source": [
    "from sklearn.model_selection import train_test_split\n",
    "from sklearn.linear_model import LinearRegression, Ridge, Lasso, ElasticNet"
   ]
  },
  {
   "cell_type": "code",
   "execution_count": 29,
   "id": "b5e3a3ac",
   "metadata": {},
   "outputs": [],
   "source": [
    "x_train, x_test, y_train, y_test = train_test_split(x, y, test_size=0.3, random_state=1)"
   ]
  },
  {
   "cell_type": "code",
   "execution_count": 30,
   "id": "e9480e05",
   "metadata": {},
   "outputs": [],
   "source": [
    "model_list = [LinearRegression(), Ridge(), Lasso(), ElasticNet()]"
   ]
  },
  {
   "cell_type": "code",
   "execution_count": 31,
   "id": "af7390db",
   "metadata": {},
   "outputs": [],
   "source": [
    "names = list()\n",
    "scores = list()\n",
    "weights = list()\n",
    "bias = list()"
   ]
  },
  {
   "cell_type": "code",
   "execution_count": 32,
   "id": "c100e256",
   "metadata": {},
   "outputs": [],
   "source": [
    "for model in model_list:\n",
    "    model.fit(x_train, y_train)\n",
    "\n",
    "    names.append(model.__class__.__name__)\n",
    "    scores.append(model.score(x_test, y_test))\n",
    "    weights.append(model.coef_)\n",
    "    bias.append(model.intercept_)"
   ]
  },
  {
   "cell_type": "code",
   "execution_count": 33,
   "id": "471b278f",
   "metadata": {},
   "outputs": [
    {
     "data": {
      "text/html": [
       "<div>\n",
       "<style scoped>\n",
       "    .dataframe tbody tr th:only-of-type {\n",
       "        vertical-align: middle;\n",
       "    }\n",
       "\n",
       "    .dataframe tbody tr th {\n",
       "        vertical-align: top;\n",
       "    }\n",
       "\n",
       "    .dataframe thead th {\n",
       "        text-align: right;\n",
       "    }\n",
       "</style>\n",
       "<table border=\"1\" class=\"dataframe\">\n",
       "  <thead>\n",
       "    <tr style=\"text-align: right;\">\n",
       "      <th></th>\n",
       "      <th>score</th>\n",
       "    </tr>\n",
       "  </thead>\n",
       "  <tbody>\n",
       "    <tr>\n",
       "      <th>LinearRegression</th>\n",
       "      <td>0.783630</td>\n",
       "    </tr>\n",
       "    <tr>\n",
       "      <th>Ridge</th>\n",
       "      <td>0.789051</td>\n",
       "    </tr>\n",
       "    <tr>\n",
       "      <th>Lasso</th>\n",
       "      <td>0.669478</td>\n",
       "    </tr>\n",
       "    <tr>\n",
       "      <th>ElasticNet</th>\n",
       "      <td>0.699816</td>\n",
       "    </tr>\n",
       "  </tbody>\n",
       "</table>\n",
       "</div>"
      ],
      "text/plain": [
       "                     score\n",
       "LinearRegression  0.783630\n",
       "Ridge             0.789051\n",
       "Lasso             0.669478\n",
       "ElasticNet        0.699816"
      ]
     },
     "execution_count": 33,
     "metadata": {},
     "output_type": "execute_result"
    }
   ],
   "source": [
    "models = pd.DataFrame(scores, index=names, columns=[\"score\"])\n",
    "models"
   ]
  },
  {
   "cell_type": "code",
   "execution_count": 34,
   "id": "9fc8dbe8",
   "metadata": {},
   "outputs": [],
   "source": [
    "weights[0] = weights[0].flatten()"
   ]
  },
  {
   "cell_type": "code",
   "execution_count": 35,
   "id": "dbf170f5",
   "metadata": {},
   "outputs": [
    {
     "data": {
      "text/plain": [
       "[array([-9.85424717e-02,  6.07841138e-02,  5.91715401e-02,  2.43955988e+00,\n",
       "        -2.14699650e+01,  2.79581385e+00,  3.57459778e-03, -1.51627218e+00,\n",
       "         3.07541745e-01, -1.12800166e-02, -1.00546640e+00,  6.45018446e-03,\n",
       "        -5.68834539e-01]),\n",
       " array([-8.99352520e-02,  6.20345865e-02,  1.21404325e-02,  2.23426149e+00,\n",
       "        -1.12838152e+01,  2.89618901e+00, -4.81458007e-03, -1.36998976e+00,\n",
       "         2.83653073e-01, -1.22828776e-02, -8.84229846e-01,  7.09753443e-03,\n",
       "        -5.80033848e-01]),\n",
       " array([-0.05256765,  0.05904289, -0.        ,  0.        , -0.        ,\n",
       "         0.        ,  0.01964989, -0.5767539 ,  0.23300934, -0.01230686,\n",
       "        -0.72109227,  0.00600289, -0.79711475]),\n",
       " array([-0.06892062,  0.06229229, -0.        ,  0.        , -0.        ,\n",
       "         0.60621493,  0.01506499, -0.69022698,  0.26553588, -0.01387045,\n",
       "        -0.71551352,  0.00639852, -0.75468341])]"
      ]
     },
     "execution_count": 35,
     "metadata": {},
     "output_type": "execute_result"
    }
   ],
   "source": [
    "weights"
   ]
  },
  {
   "cell_type": "code",
   "execution_count": 36,
   "id": "29b33494",
   "metadata": {},
   "outputs": [
    {
     "data": {
      "text/html": [
       "<div>\n",
       "<style scoped>\n",
       "    .dataframe tbody tr th:only-of-type {\n",
       "        vertical-align: middle;\n",
       "    }\n",
       "\n",
       "    .dataframe tbody tr th {\n",
       "        vertical-align: top;\n",
       "    }\n",
       "\n",
       "    .dataframe thead th {\n",
       "        text-align: right;\n",
       "    }\n",
       "</style>\n",
       "<table border=\"1\" class=\"dataframe\">\n",
       "  <thead>\n",
       "    <tr style=\"text-align: right;\">\n",
       "      <th></th>\n",
       "      <th>CRIM</th>\n",
       "      <th>ZN</th>\n",
       "      <th>INDUS</th>\n",
       "      <th>CHAS</th>\n",
       "      <th>NOX</th>\n",
       "      <th>RM</th>\n",
       "      <th>AGE</th>\n",
       "      <th>DIS</th>\n",
       "      <th>RAD</th>\n",
       "      <th>TAX</th>\n",
       "      <th>PTRATIO</th>\n",
       "      <th>B</th>\n",
       "      <th>LSTAT</th>\n",
       "    </tr>\n",
       "  </thead>\n",
       "  <tbody>\n",
       "    <tr>\n",
       "      <th>LinearRegression</th>\n",
       "      <td>-0.098542</td>\n",
       "      <td>0.060784</td>\n",
       "      <td>0.059172</td>\n",
       "      <td>2.439560</td>\n",
       "      <td>-21.469965</td>\n",
       "      <td>2.795814</td>\n",
       "      <td>0.003575</td>\n",
       "      <td>-1.516272</td>\n",
       "      <td>0.307542</td>\n",
       "      <td>-0.011280</td>\n",
       "      <td>-1.005466</td>\n",
       "      <td>0.006450</td>\n",
       "      <td>-0.568835</td>\n",
       "    </tr>\n",
       "    <tr>\n",
       "      <th>Ridge</th>\n",
       "      <td>-0.089935</td>\n",
       "      <td>0.062035</td>\n",
       "      <td>0.012140</td>\n",
       "      <td>2.234261</td>\n",
       "      <td>-11.283815</td>\n",
       "      <td>2.896189</td>\n",
       "      <td>-0.004815</td>\n",
       "      <td>-1.369990</td>\n",
       "      <td>0.283653</td>\n",
       "      <td>-0.012283</td>\n",
       "      <td>-0.884230</td>\n",
       "      <td>0.007098</td>\n",
       "      <td>-0.580034</td>\n",
       "    </tr>\n",
       "    <tr>\n",
       "      <th>Lasso</th>\n",
       "      <td>-0.052568</td>\n",
       "      <td>0.059043</td>\n",
       "      <td>-0.000000</td>\n",
       "      <td>0.000000</td>\n",
       "      <td>-0.000000</td>\n",
       "      <td>0.000000</td>\n",
       "      <td>0.019650</td>\n",
       "      <td>-0.576754</td>\n",
       "      <td>0.233009</td>\n",
       "      <td>-0.012307</td>\n",
       "      <td>-0.721092</td>\n",
       "      <td>0.006003</td>\n",
       "      <td>-0.797115</td>\n",
       "    </tr>\n",
       "    <tr>\n",
       "      <th>ElasticNet</th>\n",
       "      <td>-0.068921</td>\n",
       "      <td>0.062292</td>\n",
       "      <td>-0.000000</td>\n",
       "      <td>0.000000</td>\n",
       "      <td>-0.000000</td>\n",
       "      <td>0.606215</td>\n",
       "      <td>0.015065</td>\n",
       "      <td>-0.690227</td>\n",
       "      <td>0.265536</td>\n",
       "      <td>-0.013870</td>\n",
       "      <td>-0.715514</td>\n",
       "      <td>0.006399</td>\n",
       "      <td>-0.754683</td>\n",
       "    </tr>\n",
       "  </tbody>\n",
       "</table>\n",
       "</div>"
      ],
      "text/plain": [
       "                      CRIM        ZN     INDUS  ...   PTRATIO         B     LSTAT\n",
       "LinearRegression -0.098542  0.060784  0.059172  ... -1.005466  0.006450 -0.568835\n",
       "Ridge            -0.089935  0.062035  0.012140  ... -0.884230  0.007098 -0.580034\n",
       "Lasso            -0.052568  0.059043 -0.000000  ... -0.721092  0.006003 -0.797115\n",
       "ElasticNet       -0.068921  0.062292 -0.000000  ... -0.715514  0.006399 -0.754683\n",
       "\n",
       "[4 rows x 13 columns]"
      ]
     },
     "execution_count": 36,
     "metadata": {},
     "output_type": "execute_result"
    }
   ],
   "source": [
    "weight_list = list()\n",
    "\n",
    "for i in range(len(weights)):\n",
    "    temp_dict = dict()\n",
    "    for j in range(len(x.columns)):\n",
    "        temp_dict[x.columns[j]] = weights[i][j]\n",
    "    weight_list.append(temp_dict)\n",
    "\n",
    "weight_df = pd.DataFrame(weight_list, index=names)\n",
    "weight_df"
   ]
  },
  {
   "cell_type": "code",
   "execution_count": 37,
   "id": "df687e45",
   "metadata": {},
   "outputs": [
    {
     "data": {
      "text/html": [
       "<div>\n",
       "<style scoped>\n",
       "    .dataframe tbody tr th:only-of-type {\n",
       "        vertical-align: middle;\n",
       "    }\n",
       "\n",
       "    .dataframe tbody tr th {\n",
       "        vertical-align: top;\n",
       "    }\n",
       "\n",
       "    .dataframe thead th {\n",
       "        text-align: right;\n",
       "    }\n",
       "</style>\n",
       "<table border=\"1\" class=\"dataframe\">\n",
       "  <thead>\n",
       "    <tr style=\"text-align: right;\">\n",
       "      <th></th>\n",
       "      <th>score</th>\n",
       "      <th>bias</th>\n",
       "    </tr>\n",
       "  </thead>\n",
       "  <tbody>\n",
       "    <tr>\n",
       "      <th>LinearRegression</th>\n",
       "      <td>0.783630</td>\n",
       "      <td>46.396494</td>\n",
       "    </tr>\n",
       "    <tr>\n",
       "      <th>Ridge</th>\n",
       "      <td>0.789051</td>\n",
       "      <td>38.951619</td>\n",
       "    </tr>\n",
       "    <tr>\n",
       "      <th>Lasso</th>\n",
       "      <td>0.669478</td>\n",
       "      <td>46.990859</td>\n",
       "    </tr>\n",
       "    <tr>\n",
       "      <th>ElasticNet</th>\n",
       "      <td>0.699816</td>\n",
       "      <td>43.504887</td>\n",
       "    </tr>\n",
       "  </tbody>\n",
       "</table>\n",
       "</div>"
      ],
      "text/plain": [
       "                     score       bias\n",
       "LinearRegression  0.783630  46.396494\n",
       "Ridge             0.789051  38.951619\n",
       "Lasso             0.669478  46.990859\n",
       "ElasticNet        0.699816  43.504887"
      ]
     },
     "execution_count": 37,
     "metadata": {},
     "output_type": "execute_result"
    }
   ],
   "source": [
    "models[\"bias\"] = list(map(lambda x: x[0], bias))\n",
    "models"
   ]
  },
  {
   "cell_type": "code",
   "execution_count": 38,
   "id": "a7dea226",
   "metadata": {},
   "outputs": [
    {
     "data": {
      "text/html": [
       "<div>\n",
       "<style scoped>\n",
       "    .dataframe tbody tr th:only-of-type {\n",
       "        vertical-align: middle;\n",
       "    }\n",
       "\n",
       "    .dataframe tbody tr th {\n",
       "        vertical-align: top;\n",
       "    }\n",
       "\n",
       "    .dataframe thead th {\n",
       "        text-align: right;\n",
       "    }\n",
       "</style>\n",
       "<table border=\"1\" class=\"dataframe\">\n",
       "  <thead>\n",
       "    <tr style=\"text-align: right;\">\n",
       "      <th></th>\n",
       "      <th>CRIM</th>\n",
       "      <th>ZN</th>\n",
       "      <th>INDUS</th>\n",
       "      <th>CHAS</th>\n",
       "      <th>NOX</th>\n",
       "      <th>RM</th>\n",
       "      <th>AGE</th>\n",
       "      <th>DIS</th>\n",
       "      <th>RAD</th>\n",
       "      <th>TAX</th>\n",
       "      <th>PTRATIO</th>\n",
       "      <th>B</th>\n",
       "      <th>LSTAT</th>\n",
       "      <th>score</th>\n",
       "      <th>bias</th>\n",
       "    </tr>\n",
       "  </thead>\n",
       "  <tbody>\n",
       "    <tr>\n",
       "      <th>LinearRegression</th>\n",
       "      <td>-0.098542</td>\n",
       "      <td>0.060784</td>\n",
       "      <td>0.059172</td>\n",
       "      <td>2.439560</td>\n",
       "      <td>-21.469965</td>\n",
       "      <td>2.795814</td>\n",
       "      <td>0.003575</td>\n",
       "      <td>-1.516272</td>\n",
       "      <td>0.307542</td>\n",
       "      <td>-0.011280</td>\n",
       "      <td>-1.005466</td>\n",
       "      <td>0.006450</td>\n",
       "      <td>-0.568835</td>\n",
       "      <td>0.783630</td>\n",
       "      <td>46.396494</td>\n",
       "    </tr>\n",
       "    <tr>\n",
       "      <th>Ridge</th>\n",
       "      <td>-0.089935</td>\n",
       "      <td>0.062035</td>\n",
       "      <td>0.012140</td>\n",
       "      <td>2.234261</td>\n",
       "      <td>-11.283815</td>\n",
       "      <td>2.896189</td>\n",
       "      <td>-0.004815</td>\n",
       "      <td>-1.369990</td>\n",
       "      <td>0.283653</td>\n",
       "      <td>-0.012283</td>\n",
       "      <td>-0.884230</td>\n",
       "      <td>0.007098</td>\n",
       "      <td>-0.580034</td>\n",
       "      <td>0.789051</td>\n",
       "      <td>38.951619</td>\n",
       "    </tr>\n",
       "    <tr>\n",
       "      <th>Lasso</th>\n",
       "      <td>-0.052568</td>\n",
       "      <td>0.059043</td>\n",
       "      <td>-0.000000</td>\n",
       "      <td>0.000000</td>\n",
       "      <td>-0.000000</td>\n",
       "      <td>0.000000</td>\n",
       "      <td>0.019650</td>\n",
       "      <td>-0.576754</td>\n",
       "      <td>0.233009</td>\n",
       "      <td>-0.012307</td>\n",
       "      <td>-0.721092</td>\n",
       "      <td>0.006003</td>\n",
       "      <td>-0.797115</td>\n",
       "      <td>0.669478</td>\n",
       "      <td>46.990859</td>\n",
       "    </tr>\n",
       "    <tr>\n",
       "      <th>ElasticNet</th>\n",
       "      <td>-0.068921</td>\n",
       "      <td>0.062292</td>\n",
       "      <td>-0.000000</td>\n",
       "      <td>0.000000</td>\n",
       "      <td>-0.000000</td>\n",
       "      <td>0.606215</td>\n",
       "      <td>0.015065</td>\n",
       "      <td>-0.690227</td>\n",
       "      <td>0.265536</td>\n",
       "      <td>-0.013870</td>\n",
       "      <td>-0.715514</td>\n",
       "      <td>0.006399</td>\n",
       "      <td>-0.754683</td>\n",
       "      <td>0.699816</td>\n",
       "      <td>43.504887</td>\n",
       "    </tr>\n",
       "  </tbody>\n",
       "</table>\n",
       "</div>"
      ],
      "text/plain": [
       "                      CRIM        ZN     INDUS  ...     LSTAT     score       bias\n",
       "LinearRegression -0.098542  0.060784  0.059172  ... -0.568835  0.783630  46.396494\n",
       "Ridge            -0.089935  0.062035  0.012140  ... -0.580034  0.789051  38.951619\n",
       "Lasso            -0.052568  0.059043 -0.000000  ... -0.797115  0.669478  46.990859\n",
       "ElasticNet       -0.068921  0.062292 -0.000000  ... -0.754683  0.699816  43.504887\n",
       "\n",
       "[4 rows x 15 columns]"
      ]
     },
     "execution_count": 38,
     "metadata": {},
     "output_type": "execute_result"
    }
   ],
   "source": [
    "models = pd.concat([weight_df, models], axis=1)\n",
    "models"
   ]
  }
 ],
 "metadata": {
  "kernelspec": {
   "display_name": "multi02",
   "language": "python",
   "name": "python3"
  },
  "language_info": {
   "codemirror_mode": {
    "name": "ipython",
    "version": 3
   },
   "file_extension": ".py",
   "mimetype": "text/x-python",
   "name": "python",
   "nbconvert_exporter": "python",
   "pygments_lexer": "ipython3",
   "version": "3.14.0"
  }
 },
 "nbformat": 4,
 "nbformat_minor": 5
}
