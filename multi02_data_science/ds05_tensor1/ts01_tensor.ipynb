{
 "cells": [
  {
   "cell_type": "code",
   "execution_count": 1,
   "id": "0a7f8b9c",
   "metadata": {},
   "outputs": [],
   "source": [
    "import tensorflow as tf"
   ]
  },
  {
   "cell_type": "code",
   "execution_count": 2,
   "id": "baed4110",
   "metadata": {},
   "outputs": [
    {
     "data": {
      "text/plain": [
       "'1.15.0'"
      ]
     },
     "execution_count": 2,
     "metadata": {},
     "output_type": "execute_result"
    }
   ],
   "source": [
    "tf.__version__"
   ]
  },
  {
   "cell_type": "markdown",
   "id": "1e70e666",
   "metadata": {},
   "source": [
    "tensorflow 1.x\n",
    "\n",
    "- Tensor : 데이터 저장 객체 (placeholder)\n",
    "- Variable : weight, bias\n",
    "- Operation : h = w * x + b (노드와 수식으로 이루어짐) -> 그래프 (tensor -> operator -> tensor -> operator -> ...)\n",
    "- Session : 실행 (학습)"
   ]
  },
  {
   "cell_type": "code",
   "execution_count": null,
   "id": "50d53c6c",
   "metadata": {},
   "outputs": [
    {
     "data": {
      "text/plain": [
       "<tf.Tensor 'Const_4:0' shape=() dtype=int32>"
      ]
     },
     "execution_count": 7,
     "metadata": {},
     "output_type": "execute_result"
    }
   ],
   "source": [
    "# node : 그래프수 ==layer리고 인지하면 이해가 쉽다, constant: 상수\n",
    "node = tf.constant(100)\n",
    "node"
   ]
  },
  {
   "cell_type": "code",
   "execution_count": 8,
   "id": "574da9ac",
   "metadata": {},
   "outputs": [
    {
     "name": "stdout",
     "output_type": "stream",
     "text": [
      "WARNING:tensorflow:From C:\\Users\\desk-dongheon\\AppData\\Local\\Temp\\ipykernel_15544\\2524053515.py:2: The name tf.Session is deprecated. Please use tf.compat.v1.Session instead.\n",
      "\n"
     ]
    },
    {
     "name": "stderr",
     "output_type": "stream",
     "text": [
      "WARNING:tensorflow:From C:\\Users\\desk-dongheon\\AppData\\Local\\Temp\\ipykernel_15544\\2524053515.py:2: The name tf.Session is deprecated. Please use tf.compat.v1.Session instead.\n",
      "\n"
     ]
    },
    {
     "data": {
      "text/plain": [
       "<tensorflow.python.client.session.Session at 0x19388e7dcf8>"
      ]
     },
     "execution_count": 8,
     "metadata": {},
     "output_type": "execute_result"
    }
   ],
   "source": [
    "# session : 그래프를 실행 (runner)\n",
    "sess = tf.Session()\n",
    "sess"
   ]
  },
  {
   "cell_type": "code",
   "execution_count": 9,
   "id": "34443b31",
   "metadata": {},
   "outputs": [
    {
     "data": {
      "text/plain": [
       "100"
      ]
     },
     "execution_count": 9,
     "metadata": {},
     "output_type": "execute_result"
    }
   ],
   "source": [
    "sess.run(node)"
   ]
  },
  {
   "cell_type": "code",
   "execution_count": 10,
   "id": "a1a9cef4",
   "metadata": {},
   "outputs": [],
   "source": [
    "import tensorflow.compat.v1 as tf"
   ]
  },
  {
   "cell_type": "code",
   "execution_count": 11,
   "id": "836d7ced",
   "metadata": {},
   "outputs": [],
   "source": [
    "# dtype=np.float32와 tf.float32는 같음 (tf에서 내부적으로 np 사용)\n",
    "node1 = tf.constant(10, dtype=tf.float32)\n",
    "node2 = tf.constant(20, dtype=tf.float32)"
   ]
  },
  {
   "cell_type": "code",
   "execution_count": 13,
   "id": "c8889309",
   "metadata": {},
   "outputs": [
    {
     "name": "stdout",
     "output_type": "stream",
     "text": [
      "Tensor(\"Const_5:0\", shape=(), dtype=float32)\n",
      "Tensor(\"Const_6:0\", shape=(), dtype=float32)\n"
     ]
    }
   ],
   "source": [
    "print(node1)\n",
    "print(node2)"
   ]
  },
  {
   "cell_type": "code",
   "execution_count": 12,
   "id": "293f2298",
   "metadata": {},
   "outputs": [
    {
     "data": {
      "text/plain": [
       "<tf.Tensor 'add:0' shape=() dtype=float32>"
      ]
     },
     "execution_count": 12,
     "metadata": {},
     "output_type": "execute_result"
    }
   ],
   "source": [
    "node3 = node1 + node2\n",
    "node3"
   ]
  },
  {
   "cell_type": "code",
   "execution_count": 14,
   "id": "73e56099",
   "metadata": {},
   "outputs": [],
   "source": [
    "sess = tf.Session()"
   ]
  },
  {
   "cell_type": "code",
   "execution_count": 15,
   "id": "83605d4a",
   "metadata": {},
   "outputs": [
    {
     "data": {
      "text/plain": [
       "30.0"
      ]
     },
     "execution_count": 15,
     "metadata": {},
     "output_type": "execute_result"
    }
   ],
   "source": [
    "# node1과 node2가 실행된 후, 해당 결과를 가지고 node3 동작\n",
    "sess.run(node3)"
   ]
  },
  {
   "cell_type": "code",
   "execution_count": null,
   "id": "a5398d01",
   "metadata": {},
   "outputs": [
    {
     "data": {
      "text/plain": [
       "[10.0, 30.0]"
      ]
     },
     "execution_count": 16,
     "metadata": {},
     "output_type": "execute_result"
    }
   ],
   "source": [
    "# 만일, 중간 노드를 결과로 같이 보고 싶은 경우!, 다른결과값을 같이 보고 싶으면 []로 묶어서 보면 됩니다. 만들어진 순서대로 넣어야 한다. 갯수엔 제한 없다.\n",
    "sess.run([node1, node3])"
   ]
  },
  {
   "cell_type": "code",
   "execution_count": null,
   "id": "eb500d7b",
   "metadata": {},
   "outputs": [],
   "source": [
    "# placeholder : 실행 시점에 데이터를 입력받는, tensor 껍데기 텐서, 굳이 상수가 안들어가고 나중에 입력 받을 수 있다.\n",
    "node1 = tf.placeholder(dtype=tf.float32)\n",
    "node2 = tf.placeholder(dtype=tf.float32)\n",
    "\n",
    "node3 = node1 + node2"
   ]
  },
  {
   "cell_type": "code",
   "execution_count": 18,
   "id": "711ae6fc",
   "metadata": {},
   "outputs": [],
   "source": [
    "sess = tf.Session()"
   ]
  },
  {
   "cell_type": "code",
   "execution_count": null,
   "id": "4f42bcb1",
   "metadata": {},
   "outputs": [
    {
     "data": {
      "text/plain": [
       "array([50., 70., 90.], dtype=float32)"
      ]
     },
     "execution_count": 19,
     "metadata": {},
     "output_type": "execute_result"
    }
   ],
   "source": [
    "# 먹이를 디셔너리 형태로 줄거다.\n",
    "sess.run(node3, feed_dict={node1:[10, 20, 30], node2: [40, 50, 60]})"
   ]
  },
  {
   "cell_type": "code",
   "execution_count": null,
   "id": "191feee4",
   "metadata": {},
   "outputs": [],
   "source": []
  }
 ],
 "metadata": {
  "kernelspec": {
   "display_name": "Python 3 (ipykernel)",
   "language": "python",
   "name": "python3"
  },
  "language_info": {
   "codemirror_mode": {
    "name": "ipython",
    "version": 3
   },
   "file_extension": ".py",
   "mimetype": "text/x-python",
   "name": "python",
   "nbconvert_exporter": "python",
   "pygments_lexer": "ipython3",
   "version": "3.7.0"
  }
 },
 "nbformat": 4,
 "nbformat_minor": 5
}
