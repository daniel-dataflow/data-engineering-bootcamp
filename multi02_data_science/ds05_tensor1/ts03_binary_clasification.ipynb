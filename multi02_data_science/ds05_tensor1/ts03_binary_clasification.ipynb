{
 "cells": [
  {
   "cell_type": "code",
   "execution_count": 1,
   "id": "1d9dd20f",
   "metadata": {},
   "outputs": [],
   "source": [
    "import tensorflow.compat.v1 as tf"
   ]
  },
  {
   "cell_type": "code",
   "execution_count": 2,
   "id": "71a97bcf",
   "metadata": {},
   "outputs": [],
   "source": [
    "x = [[1, 0],\n",
    "      [2, 0],\n",
    "      [5, 1],\n",
    "      [2, 3],\n",
    "      [3, 3],\n",
    "      [8, 1],\n",
    "      [10, 0]]\n",
    "y = [[0],\n",
    "      [1],\n",
    "      [0],\n",
    "      [0],\n",
    "      [1],\n",
    "      [1],\n",
    "      [1]]"
   ]
  },
  {
   "cell_type": "code",
   "execution_count": null,
   "id": "23b1109d",
   "metadata": {},
   "outputs": [],
   "source": [
    "# None : 데이터가 몇개가 들어가지 못할 때 쓴다.\n",
    "x_node = tf.placeholder(shape=[None, 2], dtype=tf.float32)\n",
    "y_node = tf.placeholder(shape=[None, 1], dtype=tf.float32)"
   ]
  },
  {
   "cell_type": "code",
   "execution_count": null,
   "id": "873c8465",
   "metadata": {},
   "outputs": [],
   "source": [
    "# [2, 1] : 엑스의 형태와 같아야 한다.\n",
    "w = tf.Variable(tf.random_normal([2, 1]), name=\"weight\")\n",
    "b = tf.Variable(tf.random_normal([1]), name=\"bias\")"
   ]
  },
  {
   "cell_type": "code",
   "execution_count": 7,
   "id": "d67dfb26",
   "metadata": {},
   "outputs": [],
   "source": [
    "# # tf.matmul : 행렬곱\n",
    "logits = tf.matmul(x_node, w) + b"
   ]
  },
  {
   "cell_type": "code",
   "execution_count": 9,
   "id": "8724b9a9",
   "metadata": {},
   "outputs": [],
   "source": [
    "# 분류\n",
    "h = tf.sigmoid(logits)"
   ]
  },
  {
   "cell_type": "code",
   "execution_count": 10,
   "id": "a3de7903",
   "metadata": {},
   "outputs": [
    {
     "name": "stdout",
     "output_type": "stream",
     "text": [
      "WARNING:tensorflow:From C:\\Users\\desk-dongheon\\anaconda3\\envs\\dsde05-2\\lib\\site-packages\\tensorflow_core\\python\\ops\\nn_impl.py:183: where (from tensorflow.python.ops.array_ops) is deprecated and will be removed in a future version.\n",
      "Instructions for updating:\n",
      "Use tf.where in 2.0, which has the same broadcast rule as np.where\n"
     ]
    }
   ],
   "source": [
    "loss = tf.reduce_mean(tf.nn.sigmoid_cross_entropy_with_logits(logits=logits, labels=y_node))"
   ]
  },
  {
   "cell_type": "code",
   "execution_count": 11,
   "id": "7d2369df",
   "metadata": {},
   "outputs": [],
   "source": [
    "learning_rate = 0.1\n",
    "optimizer = tf.train.GradientDescentOptimizer(learning_rate)\n",
    "train = optimizer.minimize(loss)"
   ]
  },
  {
   "cell_type": "code",
   "execution_count": 12,
   "id": "6b1e4f33",
   "metadata": {},
   "outputs": [],
   "source": [
    "sess = tf.Session()\n",
    "sess.run(tf.global_variables_initializer())"
   ]
  },
  {
   "cell_type": "code",
   "execution_count": 15,
   "id": "0d286ef8",
   "metadata": {},
   "outputs": [
    {
     "name": "stdout",
     "output_type": "stream",
     "text": [
      "w: [[0.3460364 ]\n",
      " [0.12353988]] \t b: [-0.71724635] \t loss: 0.6072205901145935\n",
      "w: [[ 0.4003489 ]\n",
      " [-0.05757907]] \t b: [-1.2059478] \t loss: 0.5484580397605896\n",
      "w: [[ 0.40805638]\n",
      " [-0.04596832]] \t b: [-1.2589791] \t loss: 0.5483778715133667\n",
      "w: [[ 0.40906715]\n",
      " [-0.04444928]] \t b: [-1.2659256] \t loss: 0.5483764410018921\n",
      "w: [[ 0.40920043]\n",
      " [-0.04424907]] \t b: [-1.2668414] \t loss: 0.5483764410018921\n",
      "w: [[ 0.4092182 ]\n",
      " [-0.04422256]] \t b: [-1.2669635] \t loss: 0.5483764410018921\n",
      "w: [[ 0.40921867]\n",
      " [-0.04422118]] \t b: [-1.2669675] \t loss: 0.5483764410018921\n",
      "w: [[ 0.40921867]\n",
      " [-0.04422118]] \t b: [-1.2669675] \t loss: 0.5483764410018921\n",
      "w: [[ 0.40921867]\n",
      " [-0.04422118]] \t b: [-1.2669675] \t loss: 0.5483764410018921\n",
      "w: [[ 0.40921867]\n",
      " [-0.04422118]] \t b: [-1.2669675] \t loss: 0.5483764410018921\n",
      "w: [[ 0.40921867]\n",
      " [-0.04422118]] \t b: [-1.2669675] \t loss: 0.5483764410018921\n",
      "w: [[ 0.40921867]\n",
      " [-0.04422118]] \t b: [-1.2669675] \t loss: 0.5483764410018921\n",
      "w: [[ 0.40921867]\n",
      " [-0.04422118]] \t b: [-1.2669675] \t loss: 0.5483764410018921\n",
      "w: [[ 0.40921867]\n",
      " [-0.04422118]] \t b: [-1.2669675] \t loss: 0.5483764410018921\n",
      "w: [[ 0.40921867]\n",
      " [-0.04422118]] \t b: [-1.2669675] \t loss: 0.5483764410018921\n",
      "w: [[ 0.40921867]\n",
      " [-0.04422118]] \t b: [-1.2669675] \t loss: 0.5483764410018921\n",
      "w: [[ 0.40921867]\n",
      " [-0.04422118]] \t b: [-1.2669675] \t loss: 0.5483764410018921\n",
      "w: [[ 0.40921867]\n",
      " [-0.04422118]] \t b: [-1.2669675] \t loss: 0.5483764410018921\n",
      "w: [[ 0.40921867]\n",
      " [-0.04422118]] \t b: [-1.2669675] \t loss: 0.5483764410018921\n",
      "w: [[ 0.40921867]\n",
      " [-0.04422118]] \t b: [-1.2669675] \t loss: 0.5483764410018921\n"
     ]
    }
   ],
   "source": [
    "epochs = 10000\n",
    "for step in range(epochs):\n",
    "    _, loss_val, w_val, b_val = sess.run([train, loss, w, b], feed_dict={x_node: x, y_node: y})\n",
    "    if step % 500 == 0:\n",
    "        print(f\"w: {w_val} \\t b: {b_val} \\t loss: {loss_val}\")"
   ]
  },
  {
   "cell_type": "code",
   "execution_count": null,
   "id": "c41dd3a2",
   "metadata": {},
   "outputs": [
    {
     "data": {
      "text/plain": [
       "array([[0.5699053]], dtype=float32)"
      ]
     },
     "execution_count": 18,
     "metadata": {},
     "output_type": "execute_result"
    }
   ],
   "source": [
    "# 예측해봐.\n",
    "sess.run(h, feed_dict={x_node: [[4, 2]]})"
   ]
  },
  {
   "cell_type": "code",
   "execution_count": null,
   "id": "e6d8e74f",
   "metadata": {},
   "outputs": [],
   "source": []
  }
 ],
 "metadata": {
  "kernelspec": {
   "display_name": "Python 3 (ipykernel)",
   "language": "python",
   "name": "python3"
  },
  "language_info": {
   "codemirror_mode": {
    "name": "ipython",
    "version": 3
   },
   "file_extension": ".py",
   "mimetype": "text/x-python",
   "name": "python",
   "nbconvert_exporter": "python",
   "pygments_lexer": "ipython3",
   "version": "3.7.0"
  }
 },
 "nbformat": 4,
 "nbformat_minor": 5
}
