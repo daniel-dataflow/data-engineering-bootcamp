{
 "cells": [
  {
   "cell_type": "code",
   "execution_count": 1,
   "id": "ff7d0b14",
   "metadata": {},
   "outputs": [],
   "source": [
    "import tensorflow.compat.v1 as tf"
   ]
  },
  {
   "cell_type": "code",
   "execution_count": 2,
   "id": "58b38cd6",
   "metadata": {},
   "outputs": [],
   "source": [
    "# 1. 데이터 준비\n",
    "x = tf.placeholder(tf.float32)\n",
    "y = tf.placeholder(tf.float32)"
   ]
  },
  {
   "cell_type": "code",
   "execution_count": 3,
   "id": "dbc620b0",
   "metadata": {},
   "outputs": [],
   "source": [
    "# 2. 데이터 분할 (생략)"
   ]
  },
  {
   "cell_type": "code",
   "execution_count": null,
   "id": "7b35b38f",
   "metadata": {},
   "outputs": [],
   "source": [
    "# 3. 모델 준비\n",
    "# h = w * x + b\n",
    "# random_normal : w와 b의 초기값을 표준분포에서 랜덤으로 정하겠다.\n",
    "# Variable : 엑스를 더하고 곱할때 사용된다.\n",
    "w = tf.Variable(tf.random_normal([1]), name='weight')\n",
    "b = tf.Variable(tf.random_normal([1]), name='bias')\n",
    "\n",
    "h = w * x + b"
   ]
  },
  {
   "cell_type": "code",
   "execution_count": null,
   "id": "5d1e6d63",
   "metadata": {},
   "outputs": [],
   "source": [
    "# loss function \"mse\" 차이점 계산\n",
    "loss = tf.reduce_mean(tf.square(h - y))"
   ]
  },
  {
   "cell_type": "code",
   "execution_count": 6,
   "id": "d713534a",
   "metadata": {},
   "outputs": [],
   "source": [
    "# optimizer \"gd\"\n",
    "learning_rate = 0.01\n",
    "\n",
    "optimizer = tf.train.GradientDescentOptimizer(learning_rate)"
   ]
  },
  {
   "cell_type": "code",
   "execution_count": null,
   "id": "1a5a89cf",
   "metadata": {},
   "outputs": [],
   "source": [
    "# 학습 방법 : loss를 최소화 하는 방향으로, loss = mse\n",
    "train = optimizer.minimize(loss)"
   ]
  },
  {
   "cell_type": "code",
   "execution_count": 8,
   "id": "d678a5b0",
   "metadata": {},
   "outputs": [],
   "source": [
    "# 4. 환경 설정 (변수 초기화)\n",
    "sess = tf.Session()\n",
    "\n",
    "sess.run(tf.global_variables_initializer())"
   ]
  },
  {
   "cell_type": "code",
   "execution_count": null,
   "id": "73d2f03a",
   "metadata": {},
   "outputs": [
    {
     "name": "stdout",
     "output_type": "stream",
     "text": [
      "w: [-0.40398413] \t b: [0.8022467] \t loss: 65.92514038085938\n",
      "w: [1.8599789] \t b: [1.4116789] \t loss: 0.028475433588027954\n",
      "w: [1.8962532] \t b: [1.3050282] \t loss: 0.015632664784789085\n",
      "w: [1.9231302] \t b: [1.2260067] \t loss: 0.00858214870095253\n",
      "w: [1.9430443] \t b: [1.1674567] \t loss: 0.004711494315415621\n",
      "w: [1.9577996] \t b: [1.1240746] \t loss: 0.00258654379285872\n",
      "w: [1.9687321] \t b: [1.0919313] \t loss: 0.0014199665747582912\n",
      "w: [1.9768324] \t b: [1.0681157] \t loss: 0.0007795566925778985\n",
      "w: [1.9828342] \t b: [1.0504694] \t loss: 0.00042796743218787014\n",
      "w: [1.987281] \t b: [1.0373951] \t loss: 0.000234952662140131\n"
     ]
    }
   ],
   "source": [
    "# 5. 학습\n",
    "# [train, loss, w, b] 같이 볼거야\n",
    "epochs = 1000\n",
    "for step in range(epochs):\n",
    "    _, loss_val, w_val, b_val = sess.run([train, loss, w, b], feed_dict={x:[1, 2, 3, 4], y:[3, 5, 7, 9]})\n",
    "    if step % 100 == 0:\n",
    "        print(f\"w: {w_val} \\t b: {b_val} \\t loss: {loss_val}\")"
   ]
  },
  {
   "cell_type": "code",
   "execution_count": null,
   "id": "20388e53",
   "metadata": {},
   "outputs": [],
   "source": [
    "# 6. 평가 (버전 충돌)\n",
    "loss_val = sess.run(loss, feed_dict={x:[5, 6, 7], y:[11, 13, 15]})\n",
    "loss_val"
   ]
  },
  {
   "cell_type": "code",
   "execution_count": null,
   "id": "dfd499b1",
   "metadata": {},
   "outputs": [
    {
     "data": {
      "text/plain": [
       "array([3.79186  , 4.0664964, 4.3411326, 4.615769 ], dtype=float32)"
      ]
     },
     "execution_count": 17,
     "metadata": {},
     "output_type": "execute_result"
    }
   ],
   "source": [
    "\n",
    "# 7. 예측\n",
    "sess.run(h, feed_dict={x:[10, 11, 12, 13]})"
   ]
  },
  {
   "cell_type": "code",
   "execution_count": null,
   "id": "58a5517a",
   "metadata": {},
   "outputs": [],
   "source": []
  }
 ],
 "metadata": {
  "kernelspec": {
   "display_name": "Python 3 (ipykernel)",
   "language": "python",
   "name": "python3"
  },
  "language_info": {
   "codemirror_mode": {
    "name": "ipython",
    "version": 3
   },
   "file_extension": ".py",
   "mimetype": "text/x-python",
   "name": "python",
   "nbconvert_exporter": "python",
   "pygments_lexer": "ipython3",
   "version": "3.7.0"
  }
 },
 "nbformat": 4,
 "nbformat_minor": 5
}
