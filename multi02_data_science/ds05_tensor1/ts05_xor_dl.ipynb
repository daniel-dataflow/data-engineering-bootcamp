{
 "cells": [
  {
   "cell_type": "code",
   "execution_count": 1,
   "id": "1dfa46cb",
   "metadata": {},
   "outputs": [],
   "source": [
    "import tensorflow.compat.v1 as tf"
   ]
  },
  {
   "cell_type": "code",
   "execution_count": 2,
   "id": "b1da86ec",
   "metadata": {},
   "outputs": [],
   "source": [
    "x = [[0, 0],\n",
    "      [0, 1],\n",
    "      [1, 0],\n",
    "      [1, 1]]\n",
    "y = [[0],\n",
    "      [1],\n",
    "      [1],\n",
    "      [0]]"
   ]
  },
  {
   "cell_type": "code",
   "execution_count": 3,
   "id": "c08e4418",
   "metadata": {},
   "outputs": [],
   "source": [
    "x_node = tf.placeholder(shape=[None, 2], dtype=tf.float32)\n",
    "y_node = tf.placeholder(shape=[None, 1], dtype=tf.float32)"
   ]
  },
  {
   "cell_type": "code",
   "execution_count": null,
   "id": "3ee23e50",
   "metadata": {},
   "outputs": [],
   "source": [
    "# [2, 10] : [input output]\n",
    "w1 = tf.Variable(tf.random_normal([2, 10], name='weight1'))\n",
    "b1 = tf.Variable(tf.random_normal([10], name='bias1'))\n",
    "layer1 = tf.sigmoid(tf.matmul(x_node, w1) + b1)"
   ]
  },
  {
   "cell_type": "code",
   "execution_count": 6,
   "id": "c5b32a0a",
   "metadata": {},
   "outputs": [],
   "source": [
    "w2 = tf.Variable(tf.random_normal([10, 20], name='weight2'))\n",
    "b2 = tf.Variable(tf.random_normal([20], name='bias2'))\n",
    "layer2 = tf.sigmoid(tf.matmul(layer1, w2) + b2)"
   ]
  },
  {
   "cell_type": "code",
   "execution_count": 7,
   "id": "b01d2156",
   "metadata": {},
   "outputs": [],
   "source": [
    "w3 = tf.Variable(tf.random_normal([20, 10], name='weight3'))\n",
    "b3 = tf.Variable(tf.random_normal([10], name='bias3'))\n",
    "layer3 = tf.sigmoid(tf.matmul(layer2, w3) + b3)"
   ]
  },
  {
   "cell_type": "code",
   "execution_count": 8,
   "id": "115ab6e6",
   "metadata": {},
   "outputs": [],
   "source": [
    "w4 = tf.Variable(tf.random_normal([10, 1], name='weight4'))\n",
    "b4 = tf.Variable(tf.random_normal([1], name='bias4'))"
   ]
  },
  {
   "cell_type": "code",
   "execution_count": 9,
   "id": "e0eb548f",
   "metadata": {},
   "outputs": [],
   "source": [
    "logits = tf.matmul(layer3, w4) + b4\n",
    "h = tf.sigmoid(logits)"
   ]
  },
  {
   "cell_type": "code",
   "execution_count": 10,
   "id": "b738c73e",
   "metadata": {},
   "outputs": [
    {
     "name": "stdout",
     "output_type": "stream",
     "text": [
      "WARNING:tensorflow:From C:\\Users\\desk-dongheon\\anaconda3\\envs\\dsde05-2\\lib\\site-packages\\tensorflow_core\\python\\ops\\nn_impl.py:183: where (from tensorflow.python.ops.array_ops) is deprecated and will be removed in a future version.\n",
      "Instructions for updating:\n",
      "Use tf.where in 2.0, which has the same broadcast rule as np.where\n"
     ]
    }
   ],
   "source": [
    "loss = tf.reduce_mean(tf.nn.sigmoid_cross_entropy_with_logits(logits=logits, labels=y_node))"
   ]
  },
  {
   "cell_type": "code",
   "execution_count": 11,
   "id": "5a68829c",
   "metadata": {},
   "outputs": [],
   "source": [
    "train = tf.train.GradientDescentOptimizer(learning_rate=0.1).minimize(loss)"
   ]
  },
  {
   "cell_type": "code",
   "execution_count": 12,
   "id": "3bfb2432",
   "metadata": {},
   "outputs": [],
   "source": [
    "sess = tf.Session()\n",
    "sess.run(tf.global_variables_initializer())"
   ]
  },
  {
   "cell_type": "code",
   "execution_count": 16,
   "id": "84b5744f",
   "metadata": {},
   "outputs": [
    {
     "name": "stdout",
     "output_type": "stream",
     "text": [
      "loss: 0.9345000386238098\n",
      "loss: 0.6104843616485596\n",
      "loss: 0.03126281872391701\n",
      "loss: 0.009050235152244568\n",
      "loss: 0.004977692849934101\n",
      "loss: 0.0033698328770697117\n",
      "loss: 0.0025258008390665054\n",
      "loss: 0.0020106127485632896\n",
      "loss: 0.0016652591293677688\n",
      "loss: 0.0014184744795784354\n"
     ]
    }
   ],
   "source": [
    "for step in range(10000):\n",
    "    _, loss_val = sess.run([train, loss], feed_dict={x_node:x, y_node:y})\n",
    "    if step % 1000 == 0:\n",
    "        print(f\"loss: {loss_val}\")"
   ]
  },
  {
   "cell_type": "code",
   "execution_count": 19,
   "id": "4eec3cd6",
   "metadata": {},
   "outputs": [
    {
     "data": {
      "text/plain": [
       "array([[0.00106362],\n",
       "       [0.9986073 ],\n",
       "       [0.9988532 ],\n",
       "       [0.00132871]], dtype=float32)"
      ]
     },
     "execution_count": 19,
     "metadata": {},
     "output_type": "execute_result"
    }
   ],
   "source": [
    "predict = sess.run(h, feed_dict={x_node: x})\n",
    "predict"
   ]
  },
  {
   "cell_type": "code",
   "execution_count": 21,
   "id": "ec22d46f",
   "metadata": {},
   "outputs": [],
   "source": [
    "import numpy as np"
   ]
  },
  {
   "cell_type": "code",
   "execution_count": 22,
   "id": "0afc3477",
   "metadata": {},
   "outputs": [
    {
     "data": {
      "text/plain": [
       "array([[0.],\n",
       "       [1.],\n",
       "       [1.],\n",
       "       [0.]], dtype=float32)"
      ]
     },
     "execution_count": 22,
     "metadata": {},
     "output_type": "execute_result"
    }
   ],
   "source": [
    "np.round(predict)"
   ]
  },
  {
   "cell_type": "code",
   "execution_count": null,
   "id": "df5a629e",
   "metadata": {},
   "outputs": [],
   "source": []
  }
 ],
 "metadata": {
  "kernelspec": {
   "display_name": "Python 3 (ipykernel)",
   "language": "python",
   "name": "python3"
  },
  "language_info": {
   "codemirror_mode": {
    "name": "ipython",
    "version": 3
   },
   "file_extension": ".py",
   "mimetype": "text/x-python",
   "name": "python",
   "nbconvert_exporter": "python",
   "pygments_lexer": "ipython3",
   "version": "3.7.0"
  }
 },
 "nbformat": 4,
 "nbformat_minor": 5
}
