{
 "cells": [
  {
   "cell_type": "code",
   "execution_count": 1,
   "id": "65cd5a7a",
   "metadata": {},
   "outputs": [],
   "source": [
    "import tensorflow.compat.v1 as tf"
   ]
  },
  {
   "cell_type": "code",
   "execution_count": null,
   "id": "ccac34c5",
   "metadata": {},
   "outputs": [],
   "source": [
    "# one hot encoding\n",
    "x = [[10, 7, 8, 5],\n",
    "      [8, 8, 9, 4],\n",
    "      [7, 8, 2, 3],\n",
    "      [6, 3, 9, 3],\n",
    "      [7, 5, 7, 4],\n",
    "      [3, 5, 6, 2],\n",
    "      [2, 4, 3, 1]]"
   ]
  },
  {
   "cell_type": "code",
   "execution_count": 3,
   "id": "7a05d204",
   "metadata": {},
   "outputs": [],
   "source": [
    "y = [[1, 0, 0],\n",
    "      [1, 0, 0],\n",
    "      [0, 1, 0],\n",
    "      [0, 1, 0],\n",
    "      [0, 1, 0],\n",
    "      [0, 0, 1],\n",
    "      [0, 0, 1]]"
   ]
  },
  {
   "cell_type": "code",
   "execution_count": 4,
   "id": "6ed0d2cf",
   "metadata": {},
   "outputs": [],
   "source": [
    "x_node = tf.placeholder(shape=[None, 4], dtype=tf.float32)\n",
    "y_node = tf.placeholder(shape=[None, 3], dtype=tf.float32)"
   ]
  },
  {
   "cell_type": "code",
   "execution_count": 5,
   "id": "8dceeb18",
   "metadata": {},
   "outputs": [],
   "source": [
    "w = tf.Variable(tf.random_normal([4, 3]), name='weight')\n",
    "b = tf.Variable(tf.random_normal([3]), name='b')"
   ]
  },
  {
   "cell_type": "code",
   "execution_count": null,
   "id": "c59c82ca",
   "metadata": {},
   "outputs": [],
   "source": [
    "# 다중분류\n",
    "logits = tf.matmul(x_node, w) + b\n",
    "h = tf.nn.softmax(logits)"
   ]
  },
  {
   "cell_type": "code",
   "execution_count": 9,
   "id": "e826204a",
   "metadata": {},
   "outputs": [],
   "source": [
    "loss = tf.reduce_mean(tf.nn.softmax_cross_entropy_with_logits_v2(logits=logits, labels=y_node))"
   ]
  },
  {
   "cell_type": "code",
   "execution_count": 10,
   "id": "ec0dda78",
   "metadata": {},
   "outputs": [],
   "source": [
    "train = tf.train.GradientDescentOptimizer(learning_rate=0.01).minimize(loss)"
   ]
  },
  {
   "cell_type": "code",
   "execution_count": 11,
   "id": "6214d6c4",
   "metadata": {},
   "outputs": [],
   "source": [
    "sess = tf.Session()\n",
    "sess.run(tf.global_variables_initializer())"
   ]
  },
  {
   "cell_type": "code",
   "execution_count": 14,
   "id": "364e70b1",
   "metadata": {},
   "outputs": [
    {
     "name": "stdout",
     "output_type": "stream",
     "text": [
      "loss: 0.3661198616027832\n",
      "loss: 0.3257962167263031\n",
      "loss: 0.29287034273147583\n",
      "loss: 0.2655434310436249\n",
      "loss: 0.24254730343818665\n",
      "loss: 0.2229609191417694\n",
      "loss: 0.20610138773918152\n",
      "loss: 0.19145254790782928\n",
      "loss: 0.1786186248064041\n",
      "loss: 0.16729137301445007\n"
     ]
    }
   ],
   "source": [
    "for step in range(10000):\n",
    "    _, loss_val = sess.run([train, loss], feed_dict={x_node: x, y_node: y})\n",
    "    if step % 1000 == 0:\n",
    "        print(f\"loss: {loss_val}\")"
   ]
  },
  {
   "cell_type": "code",
   "execution_count": 17,
   "id": "06732b47",
   "metadata": {},
   "outputs": [
    {
     "data": {
      "text/plain": [
       "array([[1.3247707e-04, 5.4345338e-04, 9.9932408e-01]], dtype=float32)"
      ]
     },
     "execution_count": 17,
     "metadata": {},
     "output_type": "execute_result"
    }
   ],
   "source": [
    "predict = sess.run(h, feed_dict={x_node: [[4, 9, 5, 4]]})\n",
    "predict"
   ]
  },
  {
   "cell_type": "code",
   "execution_count": 19,
   "id": "8c1249d4",
   "metadata": {},
   "outputs": [],
   "source": [
    "import numpy as np"
   ]
  },
  {
   "cell_type": "code",
   "execution_count": 21,
   "id": "3066572c",
   "metadata": {},
   "outputs": [
    {
     "data": {
      "text/plain": [
       "array([[0., 0., 1.]], dtype=float32)"
      ]
     },
     "execution_count": 21,
     "metadata": {},
     "output_type": "execute_result"
    }
   ],
   "source": [
    "np.round(predict)"
   ]
  },
  {
   "cell_type": "code",
   "execution_count": null,
   "id": "b962a190",
   "metadata": {},
   "outputs": [],
   "source": []
  }
 ],
 "metadata": {
  "kernelspec": {
   "display_name": "Python 3 (ipykernel)",
   "language": "python",
   "name": "python3"
  },
  "language_info": {
   "codemirror_mode": {
    "name": "ipython",
    "version": 3
   },
   "file_extension": ".py",
   "mimetype": "text/x-python",
   "name": "python",
   "nbconvert_exporter": "python",
   "pygments_lexer": "ipython3",
   "version": "3.7.0"
  }
 },
 "nbformat": 4,
 "nbformat_minor": 5
}
