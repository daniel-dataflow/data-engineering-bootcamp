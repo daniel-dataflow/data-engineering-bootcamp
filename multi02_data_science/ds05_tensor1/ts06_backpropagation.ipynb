{
 "cells": [
  {
   "cell_type": "code",
   "execution_count": 4,
   "id": "a1659df2",
   "metadata": {},
   "outputs": [],
   "source": [
    "import numpy as np"
   ]
  },
  {
   "cell_type": "code",
   "execution_count": null,
   "id": "95112bc6",
   "metadata": {},
   "outputs": [],
   "source": [
    "# sigmoid\n",
    "def sigmoid(x):\n",
    "    return 1 / (1 + np.exp(-x))"
   ]
  },
  {
   "cell_type": "code",
   "execution_count": null,
   "id": "fc9c88dd",
   "metadata": {},
   "outputs": [],
   "source": [
    "# sigmoid 미분 (역전파에 사용)\n",
    "def sigmoid_derivative(x):\n",
    "    return x * (1 - x)"
   ]
  },
  {
   "cell_type": "code",
   "execution_count": 17,
   "id": "9c884ee1",
   "metadata": {},
   "outputs": [],
   "source": [
    "x = [[0, 0],\n",
    "      [0, 1],\n",
    "      [1, 0],\n",
    "      [1, 1]]\n",
    "y = [[0],\n",
    "      [1],\n",
    "      [1],\n",
    "      [0]]\n",
    "\n",
    "x = np.array(x)\n",
    "y = np.array(y)"
   ]
  },
  {
   "cell_type": "code",
   "execution_count": 18,
   "id": "2aa10fe4",
   "metadata": {},
   "outputs": [],
   "source": [
    "# input layer \n",
    "input_size = 2\n",
    "# hidden layer의 perceptron 개수\n",
    "hidden_size = 4\n",
    "# output layer\n",
    "output_size = 1\n",
    "\n",
    "learning_rate = 0.1\n",
    "epochs = 10000"
   ]
  },
  {
   "cell_type": "code",
   "execution_count": 19,
   "id": "90b9bf00",
   "metadata": {},
   "outputs": [],
   "source": [
    "np.random.seed(1)"
   ]
  },
  {
   "cell_type": "code",
   "execution_count": 20,
   "id": "15900329",
   "metadata": {},
   "outputs": [],
   "source": [
    "# ipnut -> hidden\n",
    "weights_input_hidden = np.random.uniform(size=(input_size, hidden_size))\n",
    "bias_hidden = np.zeros((1, hidden_size))\n"
   ]
  },
  {
   "cell_type": "code",
   "execution_count": 21,
   "id": "bc1a6dd5",
   "metadata": {},
   "outputs": [],
   "source": [
    "# hidden -> output\n",
    "weights_hidden_output = np.random.uniform(size=(hidden_size, output_size))\n",
    "bias_output = np.zeros((1, output_size))"
   ]
  },
  {
   "cell_type": "code",
   "execution_count": 22,
   "id": "5f454eee",
   "metadata": {},
   "outputs": [
    {
     "name": "stdout",
     "output_type": "stream",
     "text": [
      "[[4.17022005e-01 7.20324493e-01 1.14374817e-04 3.02332573e-01]\n",
      " [1.46755891e-01 9.23385948e-02 1.86260211e-01 3.45560727e-01]]\n",
      "[[0. 0. 0. 0.]]\n",
      "[[4.17022005e-01 7.20324493e-01 1.14374817e-04 3.02332573e-01]\n",
      " [1.46755891e-01 9.23385948e-02 1.86260211e-01 3.45560727e-01]]\n",
      "[[0.]]\n"
     ]
    }
   ],
   "source": [
    "print(weights_input_hidden)\n",
    "print(bias_hidden)\n",
    "\n",
    "print(weights_input_hidden)\n",
    "print(bias_output)"
   ]
  },
  {
   "cell_type": "code",
   "execution_count": null,
   "id": "bb67815e",
   "metadata": {},
   "outputs": [
    {
     "name": "stdout",
     "output_type": "stream",
     "text": [
      "[0000] loss : 0.159033\n",
      "[1000] loss : 0.124969\n",
      "[2000] loss : 0.124878\n",
      "[3000] loss : 0.124530\n",
      "[4000] loss : 0.122020\n",
      "[5000] loss : 0.105410\n",
      "[6000] loss : 0.069767\n",
      "[7000] loss : 0.021484\n",
      "[8000] loss : 0.007994\n",
      "[9000] loss : 0.004401\n"
     ]
    }
   ],
   "source": [
    "for epoch in range(epochs):\n",
    "    \n",
    "    # 1. Forward Propagation (순전파)\n",
    "    \n",
    "    # input -> hidden\n",
    "    hidden_layer_input = np.dot(x, weights_input_hidden) + bias_hidden\n",
    "    hidden_layer_output = sigmoid(hidden_layer_input)\n",
    "    \n",
    "    # hidden -> output\n",
    "    output_layer_input = np.dot(hidden_layer_output, weights_hidden_output) + bias_output\n",
    "    predict = sigmoid(output_layer_input)\n",
    "    \n",
    "    # 2. loss\n",
    "    error = y - predict\n",
    "    \n",
    "    if epoch % 1000 == 0:\n",
    "        loss = np.mean(np.square(error)) / 2 \n",
    "        print(f\"[{epoch:04d}] loss : {loss:.6f}\")\n",
    "    \n",
    "    # 3. Backpropagation (역전파 : 다시 역행하여 w,b 계산을 다시 해줘)\n",
    "    # error : 손실값\n",
    "    # output layer 에서 미분    \n",
    "    d_predict = error * sigmoid_derivative(predict)\n",
    "    \n",
    "    # hidden layer -> output layer 의 W, b 다시 계산\n",
    "    d_weights_hidden_output = np.dot(hidden_layer_output.T, d_predict)\n",
    "    d_bias_output = np.sum(d_predict, axis=0, keepdims=True)\n",
    "    \n",
    "    # hidden layer 에서 미분\n",
    "    error_hidden_layer = np.dot(d_predict, weights_hidden_output.T)\n",
    "    d_hidden_layer = error_hidden_layer * sigmoid_derivative(hidden_layer_output)\n",
    "\n",
    "    # input layer -> hidden layer 의 W, b 다시 계산    \n",
    "    d_weights_input_hidden = np.dot(x.T, d_hidden_layer)\n",
    "    d_bias_hidden = np.sum(d_hidden_layer, axis=0, keepdims=True)\n",
    "    \n",
    "    # 4. optimizer (gradient descent)\n",
    "    weights_hidden_output += d_weights_hidden_output * learning_rate\n",
    "    bias_output += d_bias_output * learning_rate\n",
    "\n",
    "    weights_input_hidden += d_weights_input_hidden * learning_rate\n",
    "    bias_hidden += d_bias_hidden * learning_rate\n"
   ]
  },
  {
   "cell_type": "code",
   "execution_count": 25,
   "id": "539a2cb3",
   "metadata": {},
   "outputs": [
    {
     "name": "stdout",
     "output_type": "stream",
     "text": [
      "[[0.079]\n",
      " [0.925]\n",
      " [0.927]\n",
      " [0.08 ]]\n"
     ]
    }
   ],
   "source": [
    "# 순전파 다시 (최종)\n",
    "hidden_layer_input = np.dot(x, weights_input_hidden) + bias_hidden\n",
    "hidden_layer_output = sigmoid(hidden_layer_input)\n",
    "output_layer_input = np.dot(hidden_layer_output, weights_hidden_output) + bias_output\n",
    "final_output = sigmoid(output_layer_input)\n",
    "\n",
    "print(np.round(final_output, 3))"
   ]
  },
  {
   "cell_type": "code",
   "execution_count": null,
   "id": "7150b5c6",
   "metadata": {},
   "outputs": [],
   "source": []
  }
 ],
 "metadata": {
  "kernelspec": {
   "display_name": "multi02_tensor1",
   "language": "python",
   "name": "python3"
  },
  "language_info": {
   "codemirror_mode": {
    "name": "ipython",
    "version": 3
   },
   "file_extension": ".py",
   "mimetype": "text/x-python",
   "name": "python",
   "nbconvert_exporter": "python",
   "pygments_lexer": "ipython3",
   "version": "3.7.0"
  }
 },
 "nbformat": 4,
 "nbformat_minor": 5
}
